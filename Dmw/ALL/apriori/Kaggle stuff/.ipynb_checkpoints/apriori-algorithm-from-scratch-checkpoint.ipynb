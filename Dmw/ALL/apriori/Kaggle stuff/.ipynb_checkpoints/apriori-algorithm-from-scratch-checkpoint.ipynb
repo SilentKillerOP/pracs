{
 "cells": [
  {
   "cell_type": "code",
   "execution_count": 1,
   "id": "8b527c34",
   "metadata": {
    "execution": {
     "iopub.execute_input": "2021-10-14T19:14:29.630101Z",
     "iopub.status.busy": "2021-10-14T19:14:29.628883Z",
     "iopub.status.idle": "2021-10-14T19:14:29.639646Z",
     "shell.execute_reply": "2021-10-14T19:14:29.638959Z",
     "shell.execute_reply.started": "2021-10-14T19:13:03.240264Z"
    },
    "papermill": {
     "duration": 0.027589,
     "end_time": "2021-10-14T19:14:29.639822",
     "exception": false,
     "start_time": "2021-10-14T19:14:29.612233",
     "status": "completed"
    },
    "tags": []
   },
   "outputs": [],
   "source": [
    "import pandas as pd\n",
    "import numpy as np\n",
    "import math"
   ]
  },
  {
   "cell_type": "code",
   "execution_count": 4,
   "id": "81dfa8f4",
   "metadata": {
    "execution": {
     "iopub.execute_input": "2021-10-14T19:14:29.669278Z",
     "iopub.status.busy": "2021-10-14T19:14:29.668555Z",
     "iopub.status.idle": "2021-10-14T19:14:29.706422Z",
     "shell.execute_reply": "2021-10-14T19:14:29.706927Z",
     "shell.execute_reply.started": "2021-10-14T19:13:03.248388Z"
    },
    "papermill": {
     "duration": 0.05479,
     "end_time": "2021-10-14T19:14:29.707119",
     "exception": false,
     "start_time": "2021-10-14T19:14:29.652329",
     "status": "completed"
    },
    "tags": []
   },
   "outputs": [
    {
     "data": {
      "text/html": [
       "<div>\n",
       "<style scoped>\n",
       "    .dataframe tbody tr th:only-of-type {\n",
       "        vertical-align: middle;\n",
       "    }\n",
       "\n",
       "    .dataframe tbody tr th {\n",
       "        vertical-align: top;\n",
       "    }\n",
       "\n",
       "    .dataframe thead th {\n",
       "        text-align: right;\n",
       "    }\n",
       "</style>\n",
       "<table border=\"1\" class=\"dataframe\">\n",
       "  <thead>\n",
       "    <tr style=\"text-align: right;\">\n",
       "      <th></th>\n",
       "      <th>MILK,BREAD,BISCUIT</th>\n",
       "    </tr>\n",
       "  </thead>\n",
       "  <tbody>\n",
       "    <tr>\n",
       "      <th>0</th>\n",
       "      <td>BREAD,MILK,BISCUIT,CORNFLAKES</td>\n",
       "    </tr>\n",
       "    <tr>\n",
       "      <th>1</th>\n",
       "      <td>BREAD,TEA,BOURNVITA</td>\n",
       "    </tr>\n",
       "    <tr>\n",
       "      <th>2</th>\n",
       "      <td>JAM,MAGGI,BREAD,MILK</td>\n",
       "    </tr>\n",
       "    <tr>\n",
       "      <th>3</th>\n",
       "      <td>MAGGI,TEA,BISCUIT</td>\n",
       "    </tr>\n",
       "    <tr>\n",
       "      <th>4</th>\n",
       "      <td>BREAD,TEA,BOURNVITA</td>\n",
       "    </tr>\n",
       "    <tr>\n",
       "      <th>5</th>\n",
       "      <td>MAGGI,TEA,CORNFLAKES</td>\n",
       "    </tr>\n",
       "    <tr>\n",
       "      <th>6</th>\n",
       "      <td>MAGGI,BREAD,TEA,BISCUIT</td>\n",
       "    </tr>\n",
       "    <tr>\n",
       "      <th>7</th>\n",
       "      <td>JAM,MAGGI,BREAD,TEA</td>\n",
       "    </tr>\n",
       "    <tr>\n",
       "      <th>8</th>\n",
       "      <td>BREAD,MILK</td>\n",
       "    </tr>\n",
       "    <tr>\n",
       "      <th>9</th>\n",
       "      <td>COFFEE,COKE,BISCUIT,CORNFLAKES</td>\n",
       "    </tr>\n",
       "    <tr>\n",
       "      <th>10</th>\n",
       "      <td>COFFEE,COKE,BISCUIT,CORNFLAKES</td>\n",
       "    </tr>\n",
       "    <tr>\n",
       "      <th>11</th>\n",
       "      <td>COFFEE,SUGER,BOURNVITA</td>\n",
       "    </tr>\n",
       "    <tr>\n",
       "      <th>12</th>\n",
       "      <td>BREAD,COFFEE,COKE</td>\n",
       "    </tr>\n",
       "    <tr>\n",
       "      <th>13</th>\n",
       "      <td>BREAD,SUGER,BISCUIT</td>\n",
       "    </tr>\n",
       "    <tr>\n",
       "      <th>14</th>\n",
       "      <td>COFFEE,SUGER,CORNFLAKES</td>\n",
       "    </tr>\n",
       "    <tr>\n",
       "      <th>15</th>\n",
       "      <td>BREAD,SUGER,BOURNVITA</td>\n",
       "    </tr>\n",
       "    <tr>\n",
       "      <th>16</th>\n",
       "      <td>BREAD,COFFEE,SUGER</td>\n",
       "    </tr>\n",
       "    <tr>\n",
       "      <th>17</th>\n",
       "      <td>BREAD,COFFEE,SUGER</td>\n",
       "    </tr>\n",
       "    <tr>\n",
       "      <th>18</th>\n",
       "      <td>TEA,MILK,COFFEE,CORNFLAKES</td>\n",
       "    </tr>\n",
       "  </tbody>\n",
       "</table>\n",
       "</div>"
      ],
      "text/plain": [
       "                MILK,BREAD,BISCUIT\n",
       "0    BREAD,MILK,BISCUIT,CORNFLAKES\n",
       "1              BREAD,TEA,BOURNVITA\n",
       "2             JAM,MAGGI,BREAD,MILK\n",
       "3                MAGGI,TEA,BISCUIT\n",
       "4              BREAD,TEA,BOURNVITA\n",
       "5             MAGGI,TEA,CORNFLAKES\n",
       "6          MAGGI,BREAD,TEA,BISCUIT\n",
       "7              JAM,MAGGI,BREAD,TEA\n",
       "8                       BREAD,MILK\n",
       "9   COFFEE,COKE,BISCUIT,CORNFLAKES\n",
       "10  COFFEE,COKE,BISCUIT,CORNFLAKES\n",
       "11          COFFEE,SUGER,BOURNVITA\n",
       "12               BREAD,COFFEE,COKE\n",
       "13             BREAD,SUGER,BISCUIT\n",
       "14         COFFEE,SUGER,CORNFLAKES\n",
       "15           BREAD,SUGER,BOURNVITA\n",
       "16              BREAD,COFFEE,SUGER\n",
       "17              BREAD,COFFEE,SUGER\n",
       "18      TEA,MILK,COFFEE,CORNFLAKES"
      ]
     },
     "execution_count": 4,
     "metadata": {},
     "output_type": "execute_result"
    }
   ],
   "source": [
    "transaction_df = pd.read_csv('GroceryStoreDataSet.csv')\n",
    "transaction_df"
   ]
  },
  {
   "cell_type": "code",
   "execution_count": 5,
   "id": "57b59b6e",
   "metadata": {
    "execution": {
     "iopub.execute_input": "2021-10-14T19:14:29.744546Z",
     "iopub.status.busy": "2021-10-14T19:14:29.737263Z",
     "iopub.status.idle": "2021-10-14T19:14:29.747617Z",
     "shell.execute_reply": "2021-10-14T19:14:29.747108Z",
     "shell.execute_reply.started": "2021-10-14T19:13:03.273859Z"
    },
    "papermill": {
     "duration": 0.027984,
     "end_time": "2021-10-14T19:14:29.747757",
     "exception": false,
     "start_time": "2021-10-14T19:14:29.719773",
     "status": "completed"
    },
    "tags": []
   },
   "outputs": [],
   "source": [
    "transaction_df.index.rename('TID', inplace=True)\n",
    "transaction_df.rename(columns={'MILK,BREAD,BISCUIT' : 'item_list'}, inplace=True)"
   ]
  },
  {
   "cell_type": "code",
   "execution_count": 6,
   "id": "688573e4",
   "metadata": {
    "execution": {
     "iopub.execute_input": "2021-10-14T19:14:29.776851Z",
     "iopub.status.busy": "2021-10-14T19:14:29.775876Z",
     "iopub.status.idle": "2021-10-14T19:14:29.789164Z",
     "shell.execute_reply": "2021-10-14T19:14:29.788550Z",
     "shell.execute_reply.started": "2021-10-14T19:13:03.281623Z"
    },
    "papermill": {
     "duration": 0.029009,
     "end_time": "2021-10-14T19:14:29.789301",
     "exception": false,
     "start_time": "2021-10-14T19:14:29.760292",
     "status": "completed"
    },
    "scrolled": true,
    "tags": []
   },
   "outputs": [
    {
     "data": {
      "text/plain": [
       "TID\n",
       "0      [BREAD, MILK, BISCUIT, CORNFLAKES]\n",
       "1                 [BREAD, TEA, BOURNVITA]\n",
       "2               [JAM, MAGGI, BREAD, MILK]\n",
       "3                   [MAGGI, TEA, BISCUIT]\n",
       "4                 [BREAD, TEA, BOURNVITA]\n",
       "5                [MAGGI, TEA, CORNFLAKES]\n",
       "6            [MAGGI, BREAD, TEA, BISCUIT]\n",
       "7                [JAM, MAGGI, BREAD, TEA]\n",
       "8                           [BREAD, MILK]\n",
       "9     [COFFEE, COKE, BISCUIT, CORNFLAKES]\n",
       "10    [COFFEE, COKE, BISCUIT, CORNFLAKES]\n",
       "11             [COFFEE, SUGER, BOURNVITA]\n",
       "12                  [BREAD, COFFEE, COKE]\n",
       "13                [BREAD, SUGER, BISCUIT]\n",
       "14            [COFFEE, SUGER, CORNFLAKES]\n",
       "15              [BREAD, SUGER, BOURNVITA]\n",
       "16                 [BREAD, COFFEE, SUGER]\n",
       "17                 [BREAD, COFFEE, SUGER]\n",
       "18        [TEA, MILK, COFFEE, CORNFLAKES]\n",
       "Name: item_list, dtype: object"
      ]
     },
     "execution_count": 6,
     "metadata": {},
     "output_type": "execute_result"
    }
   ],
   "source": [
    "trans_df = transaction_df.item_list.str.split(',')\n",
    "trans_df"
   ]
  },
  {
   "cell_type": "code",
   "execution_count": 7,
   "id": "0e8b148d",
   "metadata": {
    "execution": {
     "iopub.execute_input": "2021-10-14T19:14:29.823907Z",
     "iopub.status.busy": "2021-10-14T19:14:29.818725Z",
     "iopub.status.idle": "2021-10-14T19:14:29.833468Z",
     "shell.execute_reply": "2021-10-14T19:14:29.832903Z",
     "shell.execute_reply.started": "2021-10-14T19:13:03.300544Z"
    },
    "papermill": {
     "duration": 0.031314,
     "end_time": "2021-10-14T19:14:29.833610",
     "exception": false,
     "start_time": "2021-10-14T19:14:29.802296",
     "status": "completed"
    },
    "tags": []
   },
   "outputs": [],
   "source": [
    "def prune(data,supp):\n",
    "    \n",
    "    df = data[data.supp_count >= supp] \n",
    "    return df\n",
    "    \n",
    "def count_itemset(transaction_df, itemsets):\n",
    "    \n",
    "    count_item = {}\n",
    "    for item_set in itemsets:\n",
    "        set_A = set(item_set)\n",
    "        for row in trans_df:\n",
    "            set_B = set(row)\n",
    "        \n",
    "            if set_B.intersection(set_A) == set_A: \n",
    "                if item_set in count_item.keys():\n",
    "                    count_item[item_set] += 1\n",
    "                \n",
    "                else:\n",
    "                    count_item[item_set] = 1\n",
    "                \n",
    "    data = pd.DataFrame()\n",
    "    data['item_sets'] = count_item.keys()\n",
    "    data['supp_count'] = count_item.values()\n",
    "    \n",
    "    return data\n",
    "\n",
    "def count_item(trans_items):\n",
    "    \n",
    "    count_ind_item = {}\n",
    "    for row in trans_items:\n",
    "        for i in range(len(row)):\n",
    "            if row[i] in count_ind_item.keys():\n",
    "                count_ind_item[row[i]] += 1\n",
    "            else:\n",
    "                count_ind_item[row[i]] = 1\n",
    "    \n",
    "    data = pd.DataFrame()\n",
    "    data['item_sets'] = count_ind_item.keys()\n",
    "    data['supp_count'] = count_ind_item.values()\n",
    "    data = data.sort_values('item_sets')\n",
    "    return data\n",
    "\n",
    "\n",
    "def join(list_of_items):\n",
    "    itemsets = []\n",
    "    i = 1\n",
    "    for entry in list_of_items:\n",
    "        proceding_items = list_of_items[i:]\n",
    "        for item in proceding_items:\n",
    "            if(type(item) is str):\n",
    "                if entry != item:\n",
    "                    tuples = (entry, item)\n",
    "                    itemsets.append(tuples)\n",
    "            else:\n",
    "                if entry[0:-1] == item[0:-1]:\n",
    "                    tuples = entry+item[1:]\n",
    "                    itemsets.append(tuples)\n",
    "        i = i+1\n",
    "    if(len(itemsets) == 0):\n",
    "        return None\n",
    "    return itemsets\n"
   ]
  },
  {
   "cell_type": "code",
   "execution_count": 8,
   "id": "b74534dd",
   "metadata": {
    "execution": {
     "iopub.execute_input": "2021-10-14T19:14:29.863079Z",
     "iopub.status.busy": "2021-10-14T19:14:29.862337Z",
     "iopub.status.idle": "2021-10-14T19:14:29.868233Z",
     "shell.execute_reply": "2021-10-14T19:14:29.868772Z",
     "shell.execute_reply.started": "2021-10-14T19:13:03.317516Z"
    },
    "papermill": {
     "duration": 0.022204,
     "end_time": "2021-10-14T19:14:29.868949",
     "exception": false,
     "start_time": "2021-10-14T19:14:29.846745",
     "status": "completed"
    },
    "tags": []
   },
   "outputs": [],
   "source": [
    "\n",
    "def apriori(trans_data,supp=3, con=0.5):\n",
    "    freq = pd.DataFrame()\n",
    "    \n",
    "    df = count_item(trans_data)\n",
    "   \n",
    "    while(len(df) != 0):\n",
    "        \n",
    "        df = prune(df, supp)\n",
    "    \n",
    "        if len(df) > 1 or (len(df) == 1 and int(df.supp_count >= supp)):\n",
    "            freq = df\n",
    "        \n",
    "        itemsets = join(df.item_sets)\n",
    "    \n",
    "        if(itemsets is None):\n",
    "            return freq\n",
    "    \n",
    "        df = count_itemset(trans_data, itemsets)\n",
    "    return df"
   ]
  },
  {
   "cell_type": "code",
   "execution_count": 10,
   "id": "5877c74e",
   "metadata": {
    "execution": {
     "iopub.execute_input": "2021-10-14T19:14:29.919657Z",
     "iopub.status.busy": "2021-10-14T19:14:29.909209Z",
     "iopub.status.idle": "2021-10-14T19:14:29.922694Z",
     "shell.execute_reply": "2021-10-14T19:14:29.923193Z",
     "shell.execute_reply.started": "2021-10-14T19:13:03.333208Z"
    },
    "papermill": {
     "duration": 0.041551,
     "end_time": "2021-10-14T19:14:29.923372",
     "exception": false,
     "start_time": "2021-10-14T19:14:29.881821",
     "status": "completed"
    },
    "scrolled": true,
    "tags": []
   },
   "outputs": [
    {
     "data": {
      "text/html": [
       "<div>\n",
       "<style scoped>\n",
       "    .dataframe tbody tr th:only-of-type {\n",
       "        vertical-align: middle;\n",
       "    }\n",
       "\n",
       "    .dataframe tbody tr th {\n",
       "        vertical-align: top;\n",
       "    }\n",
       "\n",
       "    .dataframe thead th {\n",
       "        text-align: right;\n",
       "    }\n",
       "</style>\n",
       "<table border=\"1\" class=\"dataframe\">\n",
       "  <thead>\n",
       "    <tr style=\"text-align: right;\">\n",
       "      <th></th>\n",
       "      <th>item_sets</th>\n",
       "      <th>supp_count</th>\n",
       "    </tr>\n",
       "  </thead>\n",
       "  <tbody>\n",
       "    <tr>\n",
       "      <th>0</th>\n",
       "      <td>(BISCUIT, BREAD)</td>\n",
       "      <td>3</td>\n",
       "    </tr>\n",
       "    <tr>\n",
       "      <th>3</th>\n",
       "      <td>(BISCUIT, CORNFLAKES)</td>\n",
       "      <td>3</td>\n",
       "    </tr>\n",
       "    <tr>\n",
       "      <th>8</th>\n",
       "      <td>(BOURNVITA, BREAD)</td>\n",
       "      <td>3</td>\n",
       "    </tr>\n",
       "    <tr>\n",
       "      <th>12</th>\n",
       "      <td>(BREAD, COFFEE)</td>\n",
       "      <td>3</td>\n",
       "    </tr>\n",
       "    <tr>\n",
       "      <th>15</th>\n",
       "      <td>(BREAD, MAGGI)</td>\n",
       "      <td>3</td>\n",
       "    </tr>\n",
       "    <tr>\n",
       "      <th>16</th>\n",
       "      <td>(BREAD, MILK)</td>\n",
       "      <td>3</td>\n",
       "    </tr>\n",
       "    <tr>\n",
       "      <th>17</th>\n",
       "      <td>(BREAD, SUGER)</td>\n",
       "      <td>4</td>\n",
       "    </tr>\n",
       "    <tr>\n",
       "      <th>18</th>\n",
       "      <td>(BREAD, TEA)</td>\n",
       "      <td>4</td>\n",
       "    </tr>\n",
       "    <tr>\n",
       "      <th>19</th>\n",
       "      <td>(COFFEE, COKE)</td>\n",
       "      <td>3</td>\n",
       "    </tr>\n",
       "    <tr>\n",
       "      <th>20</th>\n",
       "      <td>(COFFEE, CORNFLAKES)</td>\n",
       "      <td>4</td>\n",
       "    </tr>\n",
       "    <tr>\n",
       "      <th>22</th>\n",
       "      <td>(COFFEE, SUGER)</td>\n",
       "      <td>4</td>\n",
       "    </tr>\n",
       "    <tr>\n",
       "      <th>30</th>\n",
       "      <td>(MAGGI, TEA)</td>\n",
       "      <td>4</td>\n",
       "    </tr>\n",
       "  </tbody>\n",
       "</table>\n",
       "</div>"
      ],
      "text/plain": [
       "                item_sets  supp_count\n",
       "0        (BISCUIT, BREAD)           3\n",
       "3   (BISCUIT, CORNFLAKES)           3\n",
       "8      (BOURNVITA, BREAD)           3\n",
       "12        (BREAD, COFFEE)           3\n",
       "15         (BREAD, MAGGI)           3\n",
       "16          (BREAD, MILK)           3\n",
       "17         (BREAD, SUGER)           4\n",
       "18           (BREAD, TEA)           4\n",
       "19         (COFFEE, COKE)           3\n",
       "20   (COFFEE, CORNFLAKES)           4\n",
       "22        (COFFEE, SUGER)           4\n",
       "30           (MAGGI, TEA)           4"
      ]
     },
     "execution_count": 10,
     "metadata": {},
     "output_type": "execute_result"
    }
   ],
   "source": [
    "freq_item_sets = apriori(trans_df, 3)\n",
    "freq_item_sets"
   ]
  },
  {
   "cell_type": "code",
   "execution_count": 11,
   "id": "8c12846d",
   "metadata": {
    "execution": {
     "iopub.execute_input": "2021-10-14T19:14:29.953897Z",
     "iopub.status.busy": "2021-10-14T19:14:29.953268Z",
     "iopub.status.idle": "2021-10-14T19:14:29.956495Z",
     "shell.execute_reply": "2021-10-14T19:14:29.957036Z",
     "shell.execute_reply.started": "2021-10-14T19:13:03.364805Z"
    },
    "papermill": {
     "duration": 0.020463,
     "end_time": "2021-10-14T19:14:29.957206",
     "exception": false,
     "start_time": "2021-10-14T19:14:29.936743",
     "status": "completed"
    },
    "tags": []
   },
   "outputs": [],
   "source": [
    "def calculate_conf(value1, value2):\n",
    "    return round(int(value1)/int(value2) * 100, 2)"
   ]
  },
  {
   "cell_type": "code",
   "execution_count": 9,
   "id": "e9866997",
   "metadata": {
    "execution": {
     "iopub.execute_input": "2021-10-14T19:14:29.988076Z",
     "iopub.status.busy": "2021-10-14T19:14:29.987431Z",
     "iopub.status.idle": "2021-10-14T19:14:29.993934Z",
     "shell.execute_reply": "2021-10-14T19:14:29.994474Z",
     "shell.execute_reply.started": "2021-10-14T19:13:03.379497Z"
    },
    "papermill": {
     "duration": 0.024061,
     "end_time": "2021-10-14T19:14:29.994635",
     "exception": false,
     "start_time": "2021-10-14T19:14:29.970574",
     "status": "completed"
    },
    "tags": []
   },
   "outputs": [],
   "source": [
    "def strong_rules(freq_item_sets, threshold):\n",
    "\n",
    "    confidences = {}\n",
    "    for row in freq_item_sets.item_sets:\n",
    "        for i in range(len(row)):\n",
    "            for j in range(len(row)):\n",
    "                 if i != j:\n",
    "                    tuples = (row[i], row[j])\n",
    "                    conf = calculate_conf(freq_item_sets[freq_item_sets.item_sets == row].supp_count, count_item(trans_df)[count_item(trans_df).item_sets == row[i]].supp_count)\n",
    "                    confidences[tuples] = conf\n",
    "\n",
    "        \n",
    "    conf_df = pd.DataFrame()\n",
    "    conf_df['item_set'] = confidences.keys()\n",
    "    conf_df['confidence'] = confidences.values()\n",
    "\n",
    "    return conf_df[conf_df.confidence >= threshold]\n",
    "\n",
    "    "
   ]
  },
  {
   "cell_type": "code",
   "execution_count": 10,
   "id": "dc84690f",
   "metadata": {
    "execution": {
     "iopub.execute_input": "2021-10-14T19:14:30.024486Z",
     "iopub.status.busy": "2021-10-14T19:14:30.023793Z",
     "iopub.status.idle": "2021-10-14T19:14:30.085771Z",
     "shell.execute_reply": "2021-10-14T19:14:30.086269Z",
     "shell.execute_reply.started": "2021-10-14T19:13:03.392480Z"
    },
    "papermill": {
     "duration": 0.078391,
     "end_time": "2021-10-14T19:14:30.086458",
     "exception": false,
     "start_time": "2021-10-14T19:14:30.008067",
     "status": "completed"
    },
    "tags": []
   },
   "outputs": [
    {
     "data": {
      "text/html": [
       "<div>\n",
       "<style scoped>\n",
       "    .dataframe tbody tr th:only-of-type {\n",
       "        vertical-align: middle;\n",
       "    }\n",
       "\n",
       "    .dataframe tbody tr th {\n",
       "        vertical-align: top;\n",
       "    }\n",
       "\n",
       "    .dataframe thead th {\n",
       "        text-align: right;\n",
       "    }\n",
       "</style>\n",
       "<table border=\"1\" class=\"dataframe\">\n",
       "  <thead>\n",
       "    <tr style=\"text-align: right;\">\n",
       "      <th></th>\n",
       "      <th>item_set</th>\n",
       "      <th>confidence</th>\n",
       "    </tr>\n",
       "  </thead>\n",
       "  <tbody>\n",
       "    <tr>\n",
       "      <th>1</th>\n",
       "      <td>(SUGER, BREAD)</td>\n",
       "      <td>66.67</td>\n",
       "    </tr>\n",
       "    <tr>\n",
       "      <th>3</th>\n",
       "      <td>(TEA, BREAD)</td>\n",
       "      <td>57.14</td>\n",
       "    </tr>\n",
       "    <tr>\n",
       "      <th>4</th>\n",
       "      <td>(COFFEE, CORNFLAKES)</td>\n",
       "      <td>50.00</td>\n",
       "    </tr>\n",
       "    <tr>\n",
       "      <th>5</th>\n",
       "      <td>(CORNFLAKES, COFFEE)</td>\n",
       "      <td>66.67</td>\n",
       "    </tr>\n",
       "    <tr>\n",
       "      <th>6</th>\n",
       "      <td>(COFFEE, SUGER)</td>\n",
       "      <td>50.00</td>\n",
       "    </tr>\n",
       "    <tr>\n",
       "      <th>7</th>\n",
       "      <td>(SUGER, COFFEE)</td>\n",
       "      <td>66.67</td>\n",
       "    </tr>\n",
       "    <tr>\n",
       "      <th>8</th>\n",
       "      <td>(MAGGI, TEA)</td>\n",
       "      <td>80.00</td>\n",
       "    </tr>\n",
       "    <tr>\n",
       "      <th>9</th>\n",
       "      <td>(TEA, MAGGI)</td>\n",
       "      <td>57.14</td>\n",
       "    </tr>\n",
       "  </tbody>\n",
       "</table>\n",
       "</div>"
      ],
      "text/plain": [
       "               item_set  confidence\n",
       "1        (SUGER, BREAD)       66.67\n",
       "3          (TEA, BREAD)       57.14\n",
       "4  (COFFEE, CORNFLAKES)       50.00\n",
       "5  (CORNFLAKES, COFFEE)       66.67\n",
       "6       (COFFEE, SUGER)       50.00\n",
       "7       (SUGER, COFFEE)       66.67\n",
       "8          (MAGGI, TEA)       80.00\n",
       "9          (TEA, MAGGI)       57.14"
      ]
     },
     "execution_count": 10,
     "metadata": {},
     "output_type": "execute_result"
    }
   ],
   "source": [
    "strong_rules(freq_item_sets, 50.0)"
   ]
  },
  {
   "cell_type": "markdown",
   "id": "70c968fd",
   "metadata": {
    "papermill": {
     "duration": 0.013916,
     "end_time": "2021-10-14T19:14:30.114190",
     "exception": false,
     "start_time": "2021-10-14T19:14:30.100274",
     "status": "completed"
    },
    "tags": []
   },
   "source": [
    "##### Rules with confidence level >= 50.0%"
   ]
  },
  {
   "cell_type": "code",
   "execution_count": 11,
   "id": "4d3b8f80",
   "metadata": {
    "execution": {
     "iopub.execute_input": "2021-10-14T19:14:30.145307Z",
     "iopub.status.busy": "2021-10-14T19:14:30.144668Z",
     "iopub.status.idle": "2021-10-14T19:14:30.151910Z",
     "shell.execute_reply": "2021-10-14T19:14:30.152396Z",
     "shell.execute_reply.started": "2021-10-14T19:13:03.477751Z"
    },
    "papermill": {
     "duration": 0.024616,
     "end_time": "2021-10-14T19:14:30.152566",
     "exception": false,
     "start_time": "2021-10-14T19:14:30.127950",
     "status": "completed"
    },
    "tags": []
   },
   "outputs": [],
   "source": [
    "from functools import reduce # Valid in Python 2.6+, required in Python 3\n",
    "import operator\n",
    "\n",
    "def interesting_rules(freq_item_sets):\n",
    "    \n",
    "    lifts = {}\n",
    "    prob_of_items = []\n",
    "  \n",
    "    for row in freq_item_sets.item_sets:\n",
    "        num_of_items = len(row)\n",
    "        \n",
    "        prob_all = freq_item_sets[freq_item_sets.item_sets == row].supp_count / 18\n",
    "        for i in range(num_of_items):\n",
    "            prob_of_items.append(count_item(trans_df)[count_item(trans_df).item_sets == row[i]].supp_count / 18)\n",
    "        \n",
    "        lifts[row] = round(float(prob_all / reduce(operator.mul, (np.array(prob_of_items)), 1)), 2)\n",
    "        \n",
    "        prob_of_items = []\n",
    "        \n",
    "    \n",
    "    lifts_df = pd.DataFrame()\n",
    "    lifts_df['Rules'] = lifts.keys()\n",
    "    lifts_df['lift'] = lifts.values()\n",
    "    \n",
    "    return lifts_df\n",
    "    "
   ]
  },
  {
   "cell_type": "code",
   "execution_count": 12,
   "id": "8fad319f",
   "metadata": {
    "execution": {
     "iopub.execute_input": "2021-10-14T19:14:30.183603Z",
     "iopub.status.busy": "2021-10-14T19:14:30.182981Z",
     "iopub.status.idle": "2021-10-14T19:14:30.245675Z",
     "shell.execute_reply": "2021-10-14T19:14:30.246157Z",
     "shell.execute_reply.started": "2021-10-14T19:13:03.489985Z"
    },
    "papermill": {
     "duration": 0.079939,
     "end_time": "2021-10-14T19:14:30.246351",
     "exception": false,
     "start_time": "2021-10-14T19:14:30.166412",
     "status": "completed"
    },
    "scrolled": true,
    "tags": []
   },
   "outputs": [
    {
     "data": {
      "text/html": [
       "<div>\n",
       "<style scoped>\n",
       "    .dataframe tbody tr th:only-of-type {\n",
       "        vertical-align: middle;\n",
       "    }\n",
       "\n",
       "    .dataframe tbody tr th {\n",
       "        vertical-align: top;\n",
       "    }\n",
       "\n",
       "    .dataframe thead th {\n",
       "        text-align: right;\n",
       "    }\n",
       "</style>\n",
       "<table border=\"1\" class=\"dataframe\">\n",
       "  <thead>\n",
       "    <tr style=\"text-align: right;\">\n",
       "      <th></th>\n",
       "      <th>Rules</th>\n",
       "      <th>lift</th>\n",
       "    </tr>\n",
       "  </thead>\n",
       "  <tbody>\n",
       "    <tr>\n",
       "      <th>0</th>\n",
       "      <td>(BREAD, SUGER)</td>\n",
       "      <td>1.00</td>\n",
       "    </tr>\n",
       "    <tr>\n",
       "      <th>1</th>\n",
       "      <td>(BREAD, TEA)</td>\n",
       "      <td>0.86</td>\n",
       "    </tr>\n",
       "    <tr>\n",
       "      <th>2</th>\n",
       "      <td>(COFFEE, CORNFLAKES)</td>\n",
       "      <td>1.50</td>\n",
       "    </tr>\n",
       "    <tr>\n",
       "      <th>3</th>\n",
       "      <td>(COFFEE, SUGER)</td>\n",
       "      <td>1.50</td>\n",
       "    </tr>\n",
       "    <tr>\n",
       "      <th>4</th>\n",
       "      <td>(MAGGI, TEA)</td>\n",
       "      <td>2.06</td>\n",
       "    </tr>\n",
       "  </tbody>\n",
       "</table>\n",
       "</div>"
      ],
      "text/plain": [
       "                  Rules  lift\n",
       "0        (BREAD, SUGER)  1.00\n",
       "1          (BREAD, TEA)  0.86\n",
       "2  (COFFEE, CORNFLAKES)  1.50\n",
       "3       (COFFEE, SUGER)  1.50\n",
       "4          (MAGGI, TEA)  2.06"
      ]
     },
     "execution_count": 12,
     "metadata": {},
     "output_type": "execute_result"
    }
   ],
   "source": [
    "int_rules = interesting_rules(freq_item_sets)\n",
    "int_rules"
   ]
  },
  {
   "cell_type": "markdown",
   "id": "5160139a",
   "metadata": {
    "papermill": {
     "duration": 0.013959,
     "end_time": "2021-10-14T19:14:30.274531",
     "exception": false,
     "start_time": "2021-10-14T19:14:30.260572",
     "status": "completed"
    },
    "tags": []
   },
   "source": [
    "##### (BREAD, TEA) is the most selling combination of items where if a person buys TEA then he/she will most likely to buy BREAD with it"
   ]
  }
 ],
 "metadata": {
  "kernelspec": {
   "display_name": "Python 3 (ipykernel)",
   "language": "python",
   "name": "python3"
  },
  "language_info": {
   "codemirror_mode": {
    "name": "ipython",
    "version": 3
   },
   "file_extension": ".py",
   "mimetype": "text/x-python",
   "name": "python",
   "nbconvert_exporter": "python",
   "pygments_lexer": "ipython3",
   "version": "3.9.2"
  },
  "papermill": {
   "default_parameters": {},
   "duration": 10.50873,
   "end_time": "2021-10-14T19:14:30.898455",
   "environment_variables": {},
   "exception": null,
   "input_path": "__notebook__.ipynb",
   "output_path": "__notebook__.ipynb",
   "parameters": {},
   "start_time": "2021-10-14T19:14:20.389725",
   "version": "2.3.3"
  }
 },
 "nbformat": 4,
 "nbformat_minor": 5
}
