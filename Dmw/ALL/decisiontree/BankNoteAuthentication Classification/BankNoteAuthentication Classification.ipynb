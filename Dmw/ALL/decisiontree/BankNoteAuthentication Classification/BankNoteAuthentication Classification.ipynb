{
 "cells": [
  {
   "cell_type": "code",
   "execution_count": 10,
   "id": "59f1b581",
   "metadata": {},
   "outputs": [],
   "source": [
    "import pandas as pd"
   ]
  },
  {
   "cell_type": "code",
   "execution_count": 11,
   "id": "e3b4d8be",
   "metadata": {},
   "outputs": [],
   "source": [
    "df = pd.read_csv('BankNoteAuthentication.csv')"
   ]
  },
  {
   "cell_type": "code",
   "execution_count": 54,
   "id": "f3807344",
   "metadata": {
    "scrolled": true
   },
   "outputs": [
    {
     "data": {
      "text/html": [
       "<div>\n",
       "<style scoped>\n",
       "    .dataframe tbody tr th:only-of-type {\n",
       "        vertical-align: middle;\n",
       "    }\n",
       "\n",
       "    .dataframe tbody tr th {\n",
       "        vertical-align: top;\n",
       "    }\n",
       "\n",
       "    .dataframe thead th {\n",
       "        text-align: right;\n",
       "    }\n",
       "</style>\n",
       "<table border=\"1\" class=\"dataframe\">\n",
       "  <thead>\n",
       "    <tr style=\"text-align: right;\">\n",
       "      <th></th>\n",
       "      <th>variance</th>\n",
       "      <th>skewness</th>\n",
       "      <th>curtosis</th>\n",
       "      <th>entropy</th>\n",
       "      <th>class</th>\n",
       "    </tr>\n",
       "  </thead>\n",
       "  <tbody>\n",
       "    <tr>\n",
       "      <th>0</th>\n",
       "      <td>3.62160</td>\n",
       "      <td>8.6661</td>\n",
       "      <td>-2.8073</td>\n",
       "      <td>-0.44699</td>\n",
       "      <td>0</td>\n",
       "    </tr>\n",
       "    <tr>\n",
       "      <th>1</th>\n",
       "      <td>4.54590</td>\n",
       "      <td>8.1674</td>\n",
       "      <td>-2.4586</td>\n",
       "      <td>-1.46210</td>\n",
       "      <td>0</td>\n",
       "    </tr>\n",
       "    <tr>\n",
       "      <th>2</th>\n",
       "      <td>3.86600</td>\n",
       "      <td>-2.6383</td>\n",
       "      <td>1.9242</td>\n",
       "      <td>0.10645</td>\n",
       "      <td>0</td>\n",
       "    </tr>\n",
       "    <tr>\n",
       "      <th>3</th>\n",
       "      <td>3.45660</td>\n",
       "      <td>9.5228</td>\n",
       "      <td>-4.0112</td>\n",
       "      <td>-3.59440</td>\n",
       "      <td>0</td>\n",
       "    </tr>\n",
       "    <tr>\n",
       "      <th>4</th>\n",
       "      <td>0.32924</td>\n",
       "      <td>-4.4552</td>\n",
       "      <td>4.5718</td>\n",
       "      <td>-0.98880</td>\n",
       "      <td>0</td>\n",
       "    </tr>\n",
       "  </tbody>\n",
       "</table>\n",
       "</div>"
      ],
      "text/plain": [
       "   variance  skewness  curtosis  entropy  class\n",
       "0   3.62160    8.6661   -2.8073 -0.44699      0\n",
       "1   4.54590    8.1674   -2.4586 -1.46210      0\n",
       "2   3.86600   -2.6383    1.9242  0.10645      0\n",
       "3   3.45660    9.5228   -4.0112 -3.59440      0\n",
       "4   0.32924   -4.4552    4.5718 -0.98880      0"
      ]
     },
     "execution_count": 54,
     "metadata": {},
     "output_type": "execute_result"
    }
   ],
   "source": [
    "(df.head())"
   ]
  },
  {
   "cell_type": "code",
   "execution_count": 13,
   "id": "d58d009b",
   "metadata": {},
   "outputs": [
    {
     "data": {
      "text/plain": [
       "variance    0\n",
       "skewness    0\n",
       "curtosis    0\n",
       "entropy     0\n",
       "class       0\n",
       "dtype: int64"
      ]
     },
     "execution_count": 13,
     "metadata": {},
     "output_type": "execute_result"
    }
   ],
   "source": [
    "df.isnull().sum()"
   ]
  },
  {
   "cell_type": "code",
   "execution_count": 14,
   "id": "4c9659d4",
   "metadata": {},
   "outputs": [],
   "source": [
    "from sklearn.model_selection import train_test_split"
   ]
  },
  {
   "cell_type": "code",
   "execution_count": 15,
   "id": "0d838d7c",
   "metadata": {},
   "outputs": [],
   "source": [
    "X=df.drop(columns=['class'])\n",
    "y=df['class']\n",
    "X_train, X_test, y_train, y_test = train_test_split(X, y, test_size=0.33, random_state=42)\n"
   ]
  },
  {
   "cell_type": "code",
   "execution_count": 16,
   "id": "7b154227",
   "metadata": {},
   "outputs": [
    {
     "name": "stdout",
     "output_type": "stream",
     "text": [
      "NAIVE BAYERS CLASSFICATION\n"
     ]
    }
   ],
   "source": [
    "print(\"NAIVE BAYERS CLASSFICATION\")"
   ]
  },
  {
   "cell_type": "code",
   "execution_count": 17,
   "id": "c49cd24b",
   "metadata": {},
   "outputs": [],
   "source": [
    "from sklearn.naive_bayes import GaussianNB\n",
    "nb = GaussianNB()"
   ]
  },
  {
   "cell_type": "code",
   "execution_count": 18,
   "id": "eb46e653",
   "metadata": {},
   "outputs": [
    {
     "data": {
      "text/plain": [
       "GaussianNB()"
      ]
     },
     "execution_count": 18,
     "metadata": {},
     "output_type": "execute_result"
    }
   ],
   "source": [
    "nb.fit(X_train,y_train)"
   ]
  },
  {
   "cell_type": "code",
   "execution_count": 19,
   "id": "a7349020",
   "metadata": {},
   "outputs": [
    {
     "name": "stdout",
     "output_type": "stream",
     "text": [
      "TESTING SCORE\n"
     ]
    },
    {
     "data": {
      "text/plain": [
       "0.8388520971302428"
      ]
     },
     "execution_count": 19,
     "metadata": {},
     "output_type": "execute_result"
    }
   ],
   "source": [
    "print(\"TESTING SCORE\")\n",
    "nb.score(X_test,y_test)"
   ]
  },
  {
   "cell_type": "code",
   "execution_count": 20,
   "id": "186739c2",
   "metadata": {},
   "outputs": [],
   "source": [
    "y_pred = nb.predict(X_test)"
   ]
  },
  {
   "cell_type": "code",
   "execution_count": 21,
   "id": "36574f38",
   "metadata": {},
   "outputs": [],
   "source": [
    "from sklearn.metrics import confusion_matrix,classification_report"
   ]
  },
  {
   "cell_type": "code",
   "execution_count": 22,
   "id": "cfed5fc8",
   "metadata": {},
   "outputs": [
    {
     "name": "stdout",
     "output_type": "stream",
     "text": [
      "CONFUSION MATRIX\n"
     ]
    },
    {
     "data": {
      "text/plain": [
       "array([[233,  24],\n",
       "       [ 49, 147]], dtype=int64)"
      ]
     },
     "execution_count": 22,
     "metadata": {},
     "output_type": "execute_result"
    }
   ],
   "source": [
    "print(\"CONFUSION MATRIX\")\n",
    "confusion_matrix(y_test,y_pred)"
   ]
  },
  {
   "cell_type": "code",
   "execution_count": 23,
   "id": "e1e30b9e",
   "metadata": {},
   "outputs": [
    {
     "name": "stdout",
     "output_type": "stream",
     "text": [
      "CLASSIFICATION REPORT\n",
      "              precision    recall  f1-score   support\n",
      "\n",
      "           0       0.83      0.91      0.86       257\n",
      "           1       0.86      0.75      0.80       196\n",
      "\n",
      "    accuracy                           0.84       453\n",
      "   macro avg       0.84      0.83      0.83       453\n",
      "weighted avg       0.84      0.84      0.84       453\n",
      "\n"
     ]
    }
   ],
   "source": [
    "print(\"CLASSIFICATION REPORT\")\n",
    "print(classification_report(y_test,y_pred))"
   ]
  },
  {
   "cell_type": "code",
   "execution_count": null,
   "id": "850ee0fb",
   "metadata": {},
   "outputs": [],
   "source": []
  },
  {
   "cell_type": "code",
   "execution_count": 24,
   "id": "258f6d45",
   "metadata": {},
   "outputs": [],
   "source": [
    "X=df.drop(columns=['class'])\n",
    "y=df['class']\n",
    "X_train, X_test, y_train, y_test = train_test_split(X, y, test_size=0.33, random_state=42)"
   ]
  },
  {
   "cell_type": "code",
   "execution_count": 25,
   "id": "e57562bd",
   "metadata": {},
   "outputs": [
    {
     "name": "stdout",
     "output_type": "stream",
     "text": [
      "\n",
      "DECISION TREE CLASSIFIER\n"
     ]
    }
   ],
   "source": [
    "print(\"\\nDECISION TREE CLASSIFIER\")\n",
    "from sklearn import tree\n",
    "dt = tree.DecisionTreeClassifier()"
   ]
  },
  {
   "cell_type": "code",
   "execution_count": 26,
   "id": "3522432b",
   "metadata": {},
   "outputs": [
    {
     "data": {
      "text/plain": [
       "DecisionTreeClassifier()"
      ]
     },
     "execution_count": 26,
     "metadata": {},
     "output_type": "execute_result"
    }
   ],
   "source": [
    "dt.fit(X_train,y_train)"
   ]
  },
  {
   "cell_type": "code",
   "execution_count": 27,
   "id": "27c6174a",
   "metadata": {},
   "outputs": [
    {
     "name": "stdout",
     "output_type": "stream",
     "text": [
      "Testing Score\n"
     ]
    },
    {
     "data": {
      "text/plain": [
       "0.9823399558498896"
      ]
     },
     "execution_count": 27,
     "metadata": {},
     "output_type": "execute_result"
    }
   ],
   "source": [
    "print(\"Testing Score\")\n",
    "dt.score(X_test,y_test)"
   ]
  },
  {
   "cell_type": "code",
   "execution_count": 28,
   "id": "e3e3d3cd",
   "metadata": {},
   "outputs": [],
   "source": [
    "y_pred_dt = dt.predict(X_test)"
   ]
  },
  {
   "cell_type": "code",
   "execution_count": null,
   "id": "03d4d205",
   "metadata": {},
   "outputs": [],
   "source": []
  },
  {
   "cell_type": "code",
   "execution_count": 29,
   "id": "58f9f7e6",
   "metadata": {},
   "outputs": [
    {
     "name": "stdout",
     "output_type": "stream",
     "text": [
      "Confusion Matrix\n"
     ]
    },
    {
     "data": {
      "text/plain": [
       "array([[256,   1],\n",
       "       [  7, 189]], dtype=int64)"
      ]
     },
     "execution_count": 29,
     "metadata": {},
     "output_type": "execute_result"
    }
   ],
   "source": [
    "print(\"Confusion Matrix\")\n",
    "confusion_matrix(y_test,y_pred_dt)"
   ]
  },
  {
   "cell_type": "code",
   "execution_count": 30,
   "id": "ae1fb9df",
   "metadata": {},
   "outputs": [
    {
     "name": "stdout",
     "output_type": "stream",
     "text": [
      "Classification Report\n",
      "              precision    recall  f1-score   support\n",
      "\n",
      "           0       0.97      1.00      0.98       257\n",
      "           1       0.99      0.96      0.98       196\n",
      "\n",
      "    accuracy                           0.98       453\n",
      "   macro avg       0.98      0.98      0.98       453\n",
      "weighted avg       0.98      0.98      0.98       453\n",
      "\n"
     ]
    }
   ],
   "source": [
    "print(\"Classification Report\")\n",
    "print(classification_report(y_test,y_pred_dt))"
   ]
  },
  {
   "cell_type": "code",
   "execution_count": 31,
   "id": "2999ea0f",
   "metadata": {},
   "outputs": [],
   "source": [
    "nb_probs = nb.predict_proba(X_test)\n",
    "dt_probs = dt.predict_proba(X_test)"
   ]
  },
  {
   "cell_type": "code",
   "execution_count": 32,
   "id": "0c7b713a",
   "metadata": {},
   "outputs": [
    {
     "data": {
      "text/plain": [
       "array([3.53141174e-02, 2.28156453e-01, 1.75722373e-01, 4.46055880e-01,\n",
       "       1.00886134e-02, 4.76389557e-03, 1.18933031e-01, 5.15649560e-04,\n",
       "       4.55075785e-03, 8.32538010e-02, 9.75607818e-02, 5.13187032e-01,\n",
       "       7.17365700e-01, 9.67403753e-01, 9.48550619e-01, 9.11428481e-02,\n",
       "       8.46884476e-01, 8.41699891e-01, 9.99998446e-01, 8.94032513e-01,\n",
       "       9.89569267e-03, 7.75671961e-02, 8.26431332e-01, 2.65452592e-03,\n",
       "       9.68925325e-01, 2.02318930e-03, 4.49644336e-03, 9.59615199e-01,\n",
       "       1.86622227e-04, 3.16230438e-04, 5.18772829e-01, 8.86928986e-02,\n",
       "       1.82223559e-01, 9.83256623e-01, 9.41593236e-01, 1.96547573e-03,\n",
       "       8.61672805e-02, 3.43022240e-01, 5.91563328e-01, 6.67364074e-02,\n",
       "       2.92854778e-01, 5.54141835e-01, 3.85727911e-01, 1.24393374e-02,\n",
       "       9.15139791e-01, 9.98056815e-01, 8.38213980e-01, 2.80511745e-02,\n",
       "       6.35454609e-01, 1.29322077e-01, 1.17403577e-02, 4.21855258e-04,\n",
       "       1.39806738e-01, 2.49711867e-03, 1.86374177e-01, 2.90854931e-01,\n",
       "       4.81278487e-01, 1.01107487e-03, 1.20687686e-02, 5.42142161e-03,\n",
       "       9.80597889e-01, 2.30462955e-02, 3.11114617e-01, 3.62786723e-03,\n",
       "       4.17848227e-01, 1.32703875e-03, 6.18586161e-03, 2.25428684e-02,\n",
       "       9.37930706e-01, 3.20083314e-01, 9.93998569e-01, 1.11349722e-02,\n",
       "       9.97703180e-01, 1.90451666e-04, 3.98074359e-01, 5.15210679e-01,\n",
       "       6.72715586e-03, 5.30523492e-01, 8.45015368e-01, 2.95822893e-01,\n",
       "       4.17814254e-01, 1.05138049e-01, 2.79248575e-01, 1.45494418e-02,\n",
       "       2.14215987e-01, 1.27643748e-03, 6.20511456e-03, 9.10534983e-01,\n",
       "       1.81315924e-01, 2.50559191e-02, 2.77391883e-03, 1.30764225e-02,\n",
       "       3.11502396e-01, 3.31015911e-01, 2.41693827e-02, 9.99696029e-01,\n",
       "       9.60570611e-01, 1.25262602e-01, 1.05226269e-02, 1.94584320e-02,\n",
       "       9.99959215e-01, 4.54874428e-03, 1.14971191e-01, 1.14126326e-02,\n",
       "       9.85406645e-01, 4.88126455e-04, 8.50562212e-03, 2.41975667e-01,\n",
       "       9.99995651e-01, 9.99865833e-01, 8.30601956e-01, 1.75510294e-01,\n",
       "       1.38936848e-02, 9.04434907e-01, 8.43298560e-01, 9.46475710e-01,\n",
       "       6.23626000e-04, 9.91602157e-01, 9.99991162e-01, 1.14648247e-03,\n",
       "       9.99394366e-01, 3.96846985e-02, 9.46330561e-02, 7.70743009e-03,\n",
       "       1.40129289e-01, 1.25151281e-01, 9.45466141e-01, 5.70410545e-01,\n",
       "       4.50114395e-02, 7.29942818e-01, 9.78909661e-01, 5.04939223e-01,\n",
       "       1.88084201e-01, 1.08488556e-02, 1.96080121e-03, 6.55986160e-02,\n",
       "       7.94334940e-01, 1.37021750e-03, 5.07822210e-02, 5.63174281e-01,\n",
       "       6.61516777e-03, 3.48645057e-02, 9.64652568e-01, 6.91657412e-01,\n",
       "       2.30426370e-01, 4.71175679e-02, 1.38915204e-01, 2.78275703e-01,\n",
       "       4.04486983e-01, 4.47199448e-03, 1.50334715e-01, 4.84172175e-01,\n",
       "       9.99991281e-01, 5.11189323e-04, 1.72388714e-01, 1.71158939e-03,\n",
       "       2.48329302e-01, 9.41478806e-02, 2.50025364e-02, 1.10405590e-01,\n",
       "       9.38603396e-01, 9.45617605e-01, 8.11855245e-01, 7.12072350e-01,\n",
       "       2.43258131e-01, 3.72305979e-03, 9.22774302e-01, 2.69476601e-02,\n",
       "       1.23902609e-03, 1.34748973e-01, 2.12109494e-01, 4.30874017e-03,\n",
       "       1.55417840e-02, 8.66468111e-01, 1.29252619e-01, 1.53737396e-01,\n",
       "       7.53348174e-01, 9.50716319e-01, 1.20212454e-01, 1.13514292e-03,\n",
       "       2.08812641e-01, 4.95576028e-01, 9.33579384e-01, 3.75099826e-02,\n",
       "       9.80351274e-01, 7.15913265e-03, 9.99989115e-01, 5.96452045e-01,\n",
       "       6.15071051e-03, 9.16229785e-03, 8.07929928e-01, 1.50001837e-02,\n",
       "       5.20138147e-02, 9.88870970e-01, 8.28714642e-01, 4.85647320e-01,\n",
       "       2.46274246e-01, 9.00961487e-01, 9.18282073e-01, 9.37558630e-01,\n",
       "       9.99704077e-01, 9.06617390e-01, 4.52107084e-03, 5.86643274e-01,\n",
       "       6.82841840e-01, 9.88376794e-01, 9.80554669e-01, 3.60264824e-01,\n",
       "       8.75080218e-01, 1.44008724e-03, 2.80710344e-01, 4.96673020e-03,\n",
       "       2.12073054e-01, 4.09932151e-02, 1.07175054e-03, 2.66733207e-03,\n",
       "       5.15210679e-01, 5.42754192e-02, 9.78223926e-01, 9.96926135e-01,\n",
       "       9.85399697e-01, 9.66163963e-01, 7.70529034e-01, 2.60041303e-01,\n",
       "       5.31258533e-01, 4.18284468e-03, 5.29866009e-01, 9.99853597e-01,\n",
       "       9.99998127e-01, 9.70486198e-01, 8.85522358e-01, 7.89062185e-02,\n",
       "       3.44949637e-01, 1.33919859e-03, 9.95532413e-01, 9.96438077e-01,\n",
       "       3.58435396e-01, 8.33538144e-01, 1.16857679e-02, 2.36034745e-02,\n",
       "       8.09568611e-02, 9.95624730e-01, 1.02895221e-02, 9.08142165e-01,\n",
       "       7.28274374e-01, 9.40571671e-01, 1.51678968e-01, 6.10795990e-03,\n",
       "       2.38739903e-03, 6.20550695e-01, 1.29428527e-04, 8.57832364e-03,\n",
       "       9.78950603e-01, 3.81942477e-01, 3.74566701e-02, 8.93324503e-03,\n",
       "       2.22521590e-03, 1.00008498e-01, 9.71238739e-01, 9.77626206e-01,\n",
       "       7.95013466e-01, 1.35498699e-01, 1.15768772e-03, 8.29591949e-01,\n",
       "       3.99716642e-01, 3.74997652e-03, 5.18282727e-01, 6.09098376e-03,\n",
       "       9.57602626e-01, 8.66027532e-01, 9.02875901e-01, 1.09732101e-01,\n",
       "       3.79592778e-02, 2.28152616e-01, 5.63718277e-03, 2.71806029e-01,\n",
       "       7.16824592e-03, 9.99953363e-01, 3.88810377e-04, 1.76117524e-01,\n",
       "       9.53659988e-01, 5.75296165e-04, 8.43987887e-01, 6.10965962e-04,\n",
       "       9.25637983e-02, 9.98985699e-01, 4.65174325e-03, 2.88894924e-01,\n",
       "       1.20674354e-03, 5.99880114e-01, 4.54793073e-03, 9.65870720e-01,\n",
       "       9.61886766e-01, 7.55986774e-01, 8.01740133e-01, 9.59327894e-03,\n",
       "       5.21667721e-01, 9.97949737e-01, 4.15032021e-04, 2.80708820e-01,\n",
       "       4.67843606e-01, 3.01765248e-03, 1.42389203e-01, 2.40926913e-02,\n",
       "       8.31445433e-02, 9.99988727e-01, 8.71221266e-01, 7.57305989e-01,\n",
       "       1.16600102e-02, 1.51894419e-04, 5.07416474e-01, 9.96721845e-01,\n",
       "       4.27482836e-03, 3.86807563e-02, 1.72200100e-01, 4.85498381e-04,\n",
       "       7.43361230e-02, 2.93133916e-01, 9.25405116e-01, 4.74687323e-01,\n",
       "       8.21388406e-01, 3.86729765e-01, 9.40207275e-01, 1.12514000e-02,\n",
       "       4.62816774e-04, 7.24380275e-03, 1.46946778e-04, 2.02858313e-01,\n",
       "       3.87300050e-02, 9.02892169e-04, 3.51344157e-01, 5.78333961e-02,\n",
       "       9.68339540e-02, 6.75045279e-02, 3.52887061e-01, 8.59160208e-01,\n",
       "       1.62627844e-01, 9.99999884e-01, 9.99891626e-01, 3.26378719e-01,\n",
       "       8.37282333e-01, 1.80022251e-03, 8.05901579e-01, 9.79962428e-01,\n",
       "       6.70080092e-01, 7.21936704e-01, 9.69061188e-01, 1.21713040e-02,\n",
       "       1.56238442e-02, 4.22092721e-01, 9.51385800e-02, 3.78647650e-02,\n",
       "       9.09001109e-01, 2.39238610e-01, 8.73040685e-01, 5.01764349e-03,\n",
       "       9.29156890e-01, 5.99042512e-01, 9.13384055e-03, 3.01765165e-03,\n",
       "       9.81914147e-01, 4.71228408e-01, 2.14101520e-02, 4.20433213e-01,\n",
       "       6.58719700e-04, 1.40152023e-03, 2.69006413e-02, 9.99373774e-01,\n",
       "       7.53160981e-02, 6.46216183e-03, 9.82913064e-01, 7.09610606e-01,\n",
       "       2.61739112e-01, 9.09052274e-01, 4.18802891e-02, 9.98838519e-01,\n",
       "       5.43403685e-01, 4.40089203e-02, 8.25320676e-01, 4.54006830e-03,\n",
       "       8.90792996e-01, 9.76532917e-01, 1.63652931e-01, 8.57748278e-03,\n",
       "       7.46781476e-01, 2.37788983e-01, 2.27974071e-01, 9.87066777e-01,\n",
       "       7.60110586e-01, 1.61828078e-02, 9.97878030e-01, 2.80327672e-01,\n",
       "       1.68439489e-02, 7.44143167e-01, 9.40844087e-01, 6.41946489e-01,\n",
       "       1.62557777e-01, 1.21145841e-03, 1.12408940e-01, 1.55675286e-03,\n",
       "       8.97034808e-03, 9.98879948e-01, 1.89634593e-01, 3.21759164e-03,\n",
       "       9.49454756e-01, 9.99999223e-01, 7.88648586e-01, 5.57498448e-01,\n",
       "       2.04475026e-01, 5.35645303e-01, 3.70445686e-02, 7.39608120e-03,\n",
       "       5.13152154e-01, 2.96449240e-01, 4.65611324e-02, 9.99999436e-01,\n",
       "       9.03118952e-01, 2.22073513e-01, 9.46057825e-03, 2.18977196e-03,\n",
       "       3.01864640e-03, 9.81490530e-01, 3.71097870e-01, 2.78121576e-03,\n",
       "       5.39366946e-02, 6.94029145e-01, 8.09521551e-01, 1.98234011e-02,\n",
       "       8.58926298e-03, 9.62291361e-01, 1.94881504e-02, 2.33159878e-03,\n",
       "       8.82654293e-03, 1.73602533e-01, 7.53066702e-01, 2.01366041e-03,\n",
       "       5.02221599e-01, 1.66110981e-04, 2.80708820e-01, 6.66331791e-01,\n",
       "       1.74297071e-03, 6.89447491e-03, 1.96960392e-01, 2.52461139e-04,\n",
       "       2.05927039e-04, 1.59650461e-03, 4.95869771e-01, 9.99825510e-01,\n",
       "       1.52466299e-01, 6.84230897e-03, 5.61847413e-03, 1.92146118e-04,\n",
       "       2.08812641e-01])"
      ]
     },
     "execution_count": 32,
     "metadata": {},
     "output_type": "execute_result"
    }
   ],
   "source": [
    "dt_probs = dt_probs[:, 1]\n",
    "nb_probs = nb_probs[:, 1]\n",
    "nb_probs"
   ]
  },
  {
   "cell_type": "code",
   "execution_count": 33,
   "id": "83f0a9a1",
   "metadata": {},
   "outputs": [],
   "source": [
    "from sklearn.metrics import roc_curve, roc_auc_score"
   ]
  },
  {
   "cell_type": "code",
   "execution_count": 34,
   "id": "87c384bc",
   "metadata": {},
   "outputs": [],
   "source": [
    "nb_auc = roc_auc_score(y_test, nb_probs)\n",
    "dt_auc = roc_auc_score(y_test, dt_probs)"
   ]
  },
  {
   "cell_type": "code",
   "execution_count": 35,
   "id": "d663edd9",
   "metadata": {},
   "outputs": [
    {
     "name": "stdout",
     "output_type": "stream",
     "text": [
      "Decision Tree AUROC = 0.9801973318510284\n",
      "Naive Bayes AUROC = 0.9371476216945922\n"
     ]
    }
   ],
   "source": [
    "print('Decision Tree AUROC = ' + str(dt_auc))\n",
    "print('Naive Bayes AUROC = ' + str(nb_auc))"
   ]
  },
  {
   "cell_type": "code",
   "execution_count": 36,
   "id": "4d4fa50d",
   "metadata": {},
   "outputs": [],
   "source": [
    "nb_fpr, nb_tpr, _ = roc_curve(y_test, nb_probs)\n",
    "dt_fpr, dt_tpr, _ = roc_curve(y_test, dt_probs)"
   ]
  },
  {
   "cell_type": "code",
   "execution_count": 37,
   "id": "89ea3672",
   "metadata": {},
   "outputs": [],
   "source": [
    "import matplotlib.pyplot as plt"
   ]
  },
  {
   "cell_type": "code",
   "execution_count": 38,
   "id": "e039a804",
   "metadata": {},
   "outputs": [
    {
     "data": {
      "image/png": "[encoded data removed]",
      "text/plain": [
       "<Figure size 432x288 with 1 Axes>"
      ]
     },
     "metadata": {
      "needs_background": "light"
     },
     "output_type": "display_data"
    }
   ],
   "source": [
    "plt.plot(nb_fpr, nb_tpr, linestyle='--', label='Naive Bayes (AUROC = %0.3f)' % nb_auc)\n",
    "plt.plot(dt_fpr, dt_tpr, marker='.', label='Decision Tree (AUROC = %0.3f)' % dt_auc)\n",
    "\n",
    "\n",
    "# Title\n",
    "plt.title('ROC Plot')\n",
    "# Axis labels\n",
    "plt.xlabel('False Positive Rate')\n",
    "plt.ylabel('True Positive Rate')\n",
    "# Show legend\n",
    "plt.legend() # \n",
    "# Show plot\n",
    "plt.show()"
   ]
  },
  {
   "cell_type": "code",
   "execution_count": 52,
   "id": "ed33b8e0",
   "metadata": {},
   "outputs": [
    {
     "name": "stdout",
     "output_type": "stream",
     "text": [
      "Naive Bayes Avg. Accuracy = 83.8852097130243 %\n",
      "Decision Tree Avg. Accuracy = 93.8852097130243 %\n",
      "Bagging Accuracy: 88.74172185430463 %\n",
      "Adaboost Accuracy: 88.30022075055187 %\n"
     ]
    },
    {
     "name": "stderr",
     "output_type": "stream",
     "text": [
      "c:\\users\\junai\\appdata\\local\\programs\\python\\python39\\lib\\site-packages\\sklearn\\base.py:441: UserWarning: X does not have valid feature names, but AdaBoostClassifier was fitted with feature names\n",
      "  warnings.warn(\n"
     ]
    },
    {
     "data": {
      "image/png": "[encoded data removed]",
      "text/plain": [
       "<Figure size 432x288 with 1 Axes>"
      ]
     },
     "metadata": {
      "needs_background": "light"
     },
     "output_type": "display_data"
    }
   ],
   "source": [
    "from sklearn.model_selection import KFold, train_test_split, cross_val_score\n",
    "from sklearn.preprocessing import LabelEncoder\n",
    "from sklearn.ensemble import AdaBoostClassifier, VotingClassifier\n",
    "from numpy import mean\n",
    "from sklearn.metrics import accuracy_score\n",
    "\n",
    "cv = KFold(n_splits=10, shuffle=True, random_state=1)\n",
    "model = AdaBoostClassifier()\n",
    "def evaluate_model(cv, model):\n",
    "    X, y = get_dataset()\n",
    "    scores = cross_val_score(model, X, y, scoring='accuracy', cv=cv, n_jobs=-1)\n",
    "    return np.mean(scores), scores.min(), scores.max()\n",
    "\n",
    "\n",
    "def naive_bayes_classification(X_train, X_test, y_train, y_test) :\n",
    "    #Training gaussian model\n",
    "    gnb = GaussianNB()\n",
    "    gnb.fit(X_train, y_train)\n",
    "    #Getting predictions\n",
    "    y_pred = gnb.predict(X_test)\n",
    "    return accuracy_score(y_test, y_pred)\n",
    "\n",
    "def decision_tree_classification(X_train, X_test, y_train, y_test) :\n",
    "    #Training decision tree\n",
    "    dtc = tree.DecisionTreeClassifier(\n",
    "        criterion=\"entropy\",\n",
    "        max_depth=4,\n",
    "        max_features=2,\n",
    "        max_leaf_nodes=None,\n",
    "        min_samples_leaf=1,\n",
    "        min_samples_split=2,\n",
    "        min_weight_fraction_leaf=0.0,\n",
    "        random_state=None,\n",
    "        splitter=\"best\",\n",
    "    )\n",
    "    dtc.fit(X_train, y_train)\n",
    "    #Getting predictions\n",
    "    y_pred = dtc.predict(X_test)\n",
    "    return accuracy_score(y_test, y_pred)\n",
    "\n",
    "n_splits=10\n",
    "#K-Fold Cross Validation\n",
    "kf = KFold(n_splits=n_splits)\n",
    "avg_score = [0, 0]\n",
    "for trainIndex, testIndex in kf.split(df) :\n",
    "    avg_score[0] += naive_bayes_classification(X_train, X_test, y_train, y_test)\n",
    "    avg_score[1] += decision_tree_classification(X_train, X_test, y_train, y_test)\n",
    "print(f\"Naive Bayes Avg. Accuracy = {avg_score[0]*100/10} %\")\n",
    "print(f\"Decision Tree Avg. Accuracy = {avg_score[1]*100/10} %\")\n",
    "\n",
    "\n",
    "#Bagging Ensemble model\n",
    "estimators = [(\"naiveBayes\", GaussianNB()), (\"decisionTree\", tree.DecisionTreeClassifier())]\n",
    "baggingEnsemble = VotingClassifier(estimators)\n",
    "baggingEnsemble.fit(X_train, y_train)\n",
    "y_pred = baggingEnsemble.predict(X_test)\n",
    "baggingAccuracy = accuracy_score(y_test, y_pred)\n",
    "print(f\"Bagging Accuracy: {baggingAccuracy*100} %\")\n",
    "\n",
    "\n",
    "#Adaboost Ensemble model\n",
    "adaboostEnsemble = AdaBoostClassifier(n_estimators=3)\n",
    "adaboostEnsemble.fit(X_train, y_train)\n",
    "y_pred = adaboostEnsemble.predict(X_test)\n",
    "adaboostAccuracy = accuracy_score(y_test, y_pred)\n",
    "print(f\"Adaboost Accuracy: {adaboostAccuracy*100} %\")\n",
    "\n",
    "\n",
    "#Plotting \n",
    "plt.bar([1,2,3,4], [avg_score[0]/10,avg_score[1]/10,baggingAccuracy,adaboostAccuracy], \n",
    "color=[\"red\",\"green\",\"pink\",\"blue\"])\n",
    "plt.xlabel(\"Model\")\n",
    "plt.ylabel(\"Accuracy\")\n",
    "plt.xticks([1,2,3,4],[\"Naive Bayes\", \"Decision Tree\", \"Bagging\", \"AdaBoost\"])\n",
    "plt.show()"
   ]
  },
  {
   "cell_type": "code",
   "execution_count": null,
   "id": "020a51a2",
   "metadata": {},
   "outputs": [],
   "source": []
  },
  {
   "cell_type": "code",
   "execution_count": null,
   "id": "852aa9c7",
   "metadata": {},
   "outputs": [],
   "source": []
  }
 ],
 "metadata": {
  "kernelspec": {
   "display_name": "Python 3 (ipykernel)",
   "language": "python",
   "name": "python3"
  },
  "language_info": {
   "codemirror_mode": {
    "name": "ipython",
    "version": 3
   },
   "file_extension": ".py",
   "mimetype": "text/x-python",
   "name": "python",
   "nbconvert_exporter": "python",
   "pygments_lexer": "ipython3",
   "version": "3.9.2"
  }
 },
 "nbformat": 4,
 "nbformat_minor": 5
}
