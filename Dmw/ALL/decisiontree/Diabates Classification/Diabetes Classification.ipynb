{
 "cells": [
  {
   "cell_type": "code",
   "execution_count": 1,
   "id": "59f1b581",
   "metadata": {},
   "outputs": [],
   "source": [
    "import pandas as pd"
   ]
  },
  {
   "cell_type": "code",
   "execution_count": 2,
   "id": "e3b4d8be",
   "metadata": {},
   "outputs": [],
   "source": [
    "df = pd.read_csv('diabetes.csv')"
   ]
  },
  {
   "cell_type": "code",
   "execution_count": 3,
   "id": "f3807344",
   "metadata": {},
   "outputs": [
    {
     "data": {
      "text/html": [
       "<div>\n",
       "<style scoped>\n",
       "    .dataframe tbody tr th:only-of-type {\n",
       "        vertical-align: middle;\n",
       "    }\n",
       "\n",
       "    .dataframe tbody tr th {\n",
       "        vertical-align: top;\n",
       "    }\n",
       "\n",
       "    .dataframe thead th {\n",
       "        text-align: right;\n",
       "    }\n",
       "</style>\n",
       "<table border=\"1\" class=\"dataframe\">\n",
       "  <thead>\n",
       "    <tr style=\"text-align: right;\">\n",
       "      <th></th>\n",
       "      <th>Pregnancies</th>\n",
       "      <th>Glucose</th>\n",
       "      <th>BloodPressure</th>\n",
       "      <th>SkinThickness</th>\n",
       "      <th>Insulin</th>\n",
       "      <th>BMI</th>\n",
       "      <th>DiabetesPedigreeFunction</th>\n",
       "      <th>Age</th>\n",
       "      <th>Outcome</th>\n",
       "    </tr>\n",
       "  </thead>\n",
       "  <tbody>\n",
       "    <tr>\n",
       "      <th>0</th>\n",
       "      <td>6</td>\n",
       "      <td>148</td>\n",
       "      <td>72</td>\n",
       "      <td>35</td>\n",
       "      <td>0</td>\n",
       "      <td>33.6</td>\n",
       "      <td>0.627</td>\n",
       "      <td>50</td>\n",
       "      <td>1</td>\n",
       "    </tr>\n",
       "    <tr>\n",
       "      <th>1</th>\n",
       "      <td>1</td>\n",
       "      <td>85</td>\n",
       "      <td>66</td>\n",
       "      <td>29</td>\n",
       "      <td>0</td>\n",
       "      <td>26.6</td>\n",
       "      <td>0.351</td>\n",
       "      <td>31</td>\n",
       "      <td>0</td>\n",
       "    </tr>\n",
       "    <tr>\n",
       "      <th>2</th>\n",
       "      <td>8</td>\n",
       "      <td>183</td>\n",
       "      <td>64</td>\n",
       "      <td>0</td>\n",
       "      <td>0</td>\n",
       "      <td>23.3</td>\n",
       "      <td>0.672</td>\n",
       "      <td>32</td>\n",
       "      <td>1</td>\n",
       "    </tr>\n",
       "    <tr>\n",
       "      <th>3</th>\n",
       "      <td>1</td>\n",
       "      <td>89</td>\n",
       "      <td>66</td>\n",
       "      <td>23</td>\n",
       "      <td>94</td>\n",
       "      <td>28.1</td>\n",
       "      <td>0.167</td>\n",
       "      <td>21</td>\n",
       "      <td>0</td>\n",
       "    </tr>\n",
       "    <tr>\n",
       "      <th>4</th>\n",
       "      <td>0</td>\n",
       "      <td>137</td>\n",
       "      <td>40</td>\n",
       "      <td>35</td>\n",
       "      <td>168</td>\n",
       "      <td>43.1</td>\n",
       "      <td>2.288</td>\n",
       "      <td>33</td>\n",
       "      <td>1</td>\n",
       "    </tr>\n",
       "  </tbody>\n",
       "</table>\n",
       "</div>"
      ],
      "text/plain": [
       "   Pregnancies  Glucose  BloodPressure  SkinThickness  Insulin   BMI  \\\n",
       "0            6      148             72             35        0  33.6   \n",
       "1            1       85             66             29        0  26.6   \n",
       "2            8      183             64              0        0  23.3   \n",
       "3            1       89             66             23       94  28.1   \n",
       "4            0      137             40             35      168  43.1   \n",
       "\n",
       "   DiabetesPedigreeFunction  Age  Outcome  \n",
       "0                     0.627   50        1  \n",
       "1                     0.351   31        0  \n",
       "2                     0.672   32        1  \n",
       "3                     0.167   21        0  \n",
       "4                     2.288   33        1  "
      ]
     },
     "execution_count": 3,
     "metadata": {},
     "output_type": "execute_result"
    }
   ],
   "source": [
    "df.head()"
   ]
  },
  {
   "cell_type": "code",
   "execution_count": 15,
   "id": "2ca975aa",
   "metadata": {},
   "outputs": [
    {
     "data": {
      "text/plain": [
       "Pregnancies                 0\n",
       "Glucose                     0\n",
       "BloodPressure               0\n",
       "SkinThickness               0\n",
       "Insulin                     0\n",
       "BMI                         0\n",
       "DiabetesPedigreeFunction    0\n",
       "Age                         0\n",
       "Outcome                     0\n",
       "dtype: int64"
      ]
     },
     "execution_count": 15,
     "metadata": {},
     "output_type": "execute_result"
    }
   ],
   "source": [
    "df.isnull().sum()"
   ]
  },
  {
   "cell_type": "code",
   "execution_count": 6,
   "id": "4c9659d4",
   "metadata": {},
   "outputs": [],
   "source": [
    "from sklearn.model_selection import train_test_split"
   ]
  },
  {
   "cell_type": "code",
   "execution_count": 66,
   "id": "0d838d7c",
   "metadata": {},
   "outputs": [],
   "source": [
    "X=df.drop(columns=['Outcome'])\n",
    "y=df['Outcome']\n",
    "X_train, X_test, y_train, y_test = train_test_split(X, y, test_size=0.33, random_state=42)"
   ]
  },
  {
   "cell_type": "code",
   "execution_count": null,
   "id": "47a2ff66",
   "metadata": {},
   "outputs": [],
   "source": [
    "print(\"NAIVE BAYERS CLASSIFICATION\")"
   ]
  },
  {
   "cell_type": "code",
   "execution_count": 67,
   "id": "c49cd24b",
   "metadata": {},
   "outputs": [],
   "source": [
    "from sklearn.naive_bayes import GaussianNB\n",
    "nb = GaussianNB()"
   ]
  },
  {
   "cell_type": "code",
   "execution_count": 68,
   "id": "eb46e653",
   "metadata": {},
   "outputs": [
    {
     "data": {
      "text/plain": [
       "GaussianNB()"
      ]
     },
     "execution_count": 68,
     "metadata": {},
     "output_type": "execute_result"
    }
   ],
   "source": [
    "nb.fit(X_train,y_train)"
   ]
  },
  {
   "cell_type": "code",
   "execution_count": 69,
   "id": "a7349020",
   "metadata": {},
   "outputs": [
    {
     "data": {
      "text/plain": [
       "0.7665369649805448"
      ]
     },
     "execution_count": 69,
     "metadata": {},
     "output_type": "execute_result"
    }
   ],
   "source": [
    "nb.score(X_test,y_test)"
   ]
  },
  {
   "cell_type": "code",
   "execution_count": 70,
   "id": "186739c2",
   "metadata": {},
   "outputs": [],
   "source": [
    "y_pred = nb.predict(X_test)"
   ]
  },
  {
   "cell_type": "code",
   "execution_count": 71,
   "id": "36574f38",
   "metadata": {},
   "outputs": [],
   "source": [
    "from sklearn.metrics import confusion_matrix,classification_report"
   ]
  },
  {
   "cell_type": "code",
   "execution_count": 72,
   "id": "cfed5fc8",
   "metadata": {},
   "outputs": [
    {
     "data": {
      "text/plain": [
       "array([[133,  35],\n",
       "       [ 32,  54]], dtype=int64)"
      ]
     },
     "execution_count": 72,
     "metadata": {},
     "output_type": "execute_result"
    }
   ],
   "source": [
    "print(\"Confusion Matrix\")\n",
    "confusion_matrix(y_test,y_pred)"
   ]
  },
  {
   "cell_type": "code",
   "execution_count": 73,
   "id": "e1e30b9e",
   "metadata": {},
   "outputs": [
    {
     "name": "stdout",
     "output_type": "stream",
     "text": [
      "              precision    recall  f1-score   support\n",
      "\n",
      "           0       0.81      0.79      0.80       168\n",
      "           1       0.61      0.63      0.62        86\n",
      "\n",
      "    accuracy                           0.74       254\n",
      "   macro avg       0.71      0.71      0.71       254\n",
      "weighted avg       0.74      0.74      0.74       254\n",
      "\n"
     ]
    }
   ],
   "source": [
    "print(\"Classification Report\")\n",
    "print(classification_report(y_test,y_pred))"
   ]
  },
  {
   "cell_type": "code",
   "execution_count": null,
   "id": "6f5754f1",
   "metadata": {},
   "outputs": [],
   "source": []
  },
  {
   "cell_type": "code",
   "execution_count": 74,
   "id": "5055a867",
   "metadata": {},
   "outputs": [],
   "source": [
    "X=df.drop(columns=['Outcome'])\n",
    "y=df['Outcome']\n",
    "X_train, X_test, y_train, y_test = train_test_split(X, y, test_size=0.33, random_state=42)"
   ]
  },
  {
   "cell_type": "code",
   "execution_count": 78,
   "id": "e57562bd",
   "metadata": {},
   "outputs": [],
   "source": [
    "from sklearn import tree\n",
    "dt = tree.DecisionTreeClassifier()"
   ]
  },
  {
   "cell_type": "code",
   "execution_count": 79,
   "id": "3522432b",
   "metadata": {},
   "outputs": [
    {
     "data": {
      "text/plain": [
       "DecisionTreeClassifier()"
      ]
     },
     "execution_count": 79,
     "metadata": {},
     "output_type": "execute_result"
    }
   ],
   "source": [
    "print(\"\\nDECISION TREE CLASSIFICATION\")\n",
    "dt.fit(X_train,y_train)"
   ]
  },
  {
   "cell_type": "code",
   "execution_count": 80,
   "id": "27c6174a",
   "metadata": {},
   "outputs": [
    {
     "data": {
      "text/plain": [
       "1.0"
      ]
     },
     "execution_count": 80,
     "metadata": {},
     "output_type": "execute_result"
    }
   ],
   "source": [
    "print(\"Testing Score\")\n",
    "dt.score(X_test,y_test)"
   ]
  },
  {
   "cell_type": "code",
   "execution_count": 81,
   "id": "e3e3d3cd",
   "metadata": {},
   "outputs": [],
   "source": [
    "y_pred_dt = dt.predict(X_test)"
   ]
  },
  {
   "cell_type": "code",
   "execution_count": 82,
   "id": "03d4d205",
   "metadata": {
    "scrolled": true
   },
   "outputs": [
    {
     "name": "stdout",
     "output_type": "stream",
     "text": [
      "              precision    recall  f1-score   support\n",
      "\n",
      "           0       0.80      0.76      0.78       168\n",
      "           1       0.57      0.62      0.59        86\n",
      "\n",
      "    accuracy                           0.71       254\n",
      "   macro avg       0.68      0.69      0.69       254\n",
      "weighted avg       0.72      0.71      0.72       254\n",
      "\n"
     ]
    }
   ],
   "source": []
  },
  {
   "cell_type": "code",
   "execution_count": 1,
   "id": "58f9f7e6",
   "metadata": {},
   "outputs": [
    {
     "name": "stdout",
     "output_type": "stream",
     "text": [
      "Confusion Matrix\n"
     ]
    },
    {
     "ename": "NameError",
     "evalue": "name 'confusion_matrix' is not defined",
     "output_type": "error",
     "traceback": [
      "\u001b[1;31m---------------------------------------------------------------------------\u001b[0m",
      "\u001b[1;31mNameError\u001b[0m                                 Traceback (most recent call last)",
      "\u001b[1;32m~\\AppData\\Local\\Temp/ipykernel_82436/962654285.py\u001b[0m in \u001b[0;36m<module>\u001b[1;34m\u001b[0m\n\u001b[0;32m      1\u001b[0m \u001b[0mprint\u001b[0m\u001b[1;33m(\u001b[0m\u001b[1;34m\"Confusion Matrix\"\u001b[0m\u001b[1;33m)\u001b[0m\u001b[1;33m\u001b[0m\u001b[1;33m\u001b[0m\u001b[0m\n\u001b[1;32m----> 2\u001b[1;33m \u001b[0mconfusion_matrix\u001b[0m\u001b[1;33m(\u001b[0m\u001b[0my_test\u001b[0m\u001b[1;33m,\u001b[0m\u001b[0my_pred_dt\u001b[0m\u001b[1;33m)\u001b[0m\u001b[1;33m\u001b[0m\u001b[1;33m\u001b[0m\u001b[0m\n\u001b[0m",
      "\u001b[1;31mNameError\u001b[0m: name 'confusion_matrix' is not defined"
     ]
    }
   ],
   "source": [
    "print(\"Confusion Matrix\")\n",
    "confusion_matrix(y_test,y_pred_dt)"
   ]
  },
  {
   "cell_type": "code",
   "execution_count": 2,
   "id": "7b2dcaf1",
   "metadata": {},
   "outputs": [
    {
     "name": "stdout",
     "output_type": "stream",
     "text": [
      "Classification Report\n"
     ]
    },
    {
     "ename": "NameError",
     "evalue": "name 'classification_report' is not defined",
     "output_type": "error",
     "traceback": [
      "\u001b[1;31m---------------------------------------------------------------------------\u001b[0m",
      "\u001b[1;31mNameError\u001b[0m                                 Traceback (most recent call last)",
      "\u001b[1;32m~\\AppData\\Local\\Temp/ipykernel_82436/2474845697.py\u001b[0m in \u001b[0;36m<module>\u001b[1;34m\u001b[0m\n\u001b[0;32m      1\u001b[0m \u001b[0mprint\u001b[0m\u001b[1;33m(\u001b[0m\u001b[1;34m\"Classification Report\"\u001b[0m\u001b[1;33m)\u001b[0m\u001b[1;33m\u001b[0m\u001b[1;33m\u001b[0m\u001b[0m\n\u001b[1;32m----> 2\u001b[1;33m \u001b[0mprint\u001b[0m\u001b[1;33m(\u001b[0m\u001b[0mclassification_report\u001b[0m\u001b[1;33m(\u001b[0m\u001b[0my_test\u001b[0m\u001b[1;33m,\u001b[0m\u001b[0my_pred_dt\u001b[0m\u001b[1;33m)\u001b[0m\u001b[1;33m)\u001b[0m\u001b[1;33m\u001b[0m\u001b[1;33m\u001b[0m\u001b[0m\n\u001b[0m",
      "\u001b[1;31mNameError\u001b[0m: name 'classification_report' is not defined"
     ]
    }
   ],
   "source": [
    "print(\"Classification Report\")\n",
    "print(classification_report(y_test,y_pred_dt))"
   ]
  },
  {
   "cell_type": "code",
   "execution_count": 84,
   "id": "2999ea0f",
   "metadata": {},
   "outputs": [],
   "source": [
    "nb_probs = nb.predict_proba(X_test)\n",
    "dt_probs = dt.predict_proba(X_test)"
   ]
  },
  {
   "cell_type": "code",
   "execution_count": 85,
   "id": "0c7b713a",
   "metadata": {},
   "outputs": [
    {
     "data": {
      "text/plain": [
       "array([2.58500881e-01, 5.94379993e-02, 2.67719434e-02, 1.68176607e-01,\n",
       "       5.16851536e-01, 5.34078136e-01, 4.03373821e-03, 1.88329196e-01,\n",
       "       4.70288009e-01, 7.55332246e-01, 2.41723968e-01, 9.77311984e-01,\n",
       "       7.41198127e-01, 2.66534465e-01, 2.09300597e-02, 2.90051166e-01,\n",
       "       5.81952383e-02, 2.78381109e-02, 6.65473189e-01, 3.05905020e-01,\n",
       "       1.25789794e-01, 3.65830317e-02, 8.67783689e-01, 2.39732820e-02,\n",
       "       6.31075876e-01, 9.61551336e-01, 3.38960152e-02, 1.01267746e-02,\n",
       "       1.77983319e-01, 5.69664651e-02, 9.51561056e-01, 8.38046386e-01,\n",
       "       9.82693455e-01, 4.93893982e-01, 6.19134827e-01, 8.95406833e-01,\n",
       "       9.99829888e-01, 1.94902894e-01, 7.12086734e-01, 1.36866529e-01,\n",
       "       1.84426073e-02, 3.45792103e-01, 4.10638725e-01, 5.44071306e-01,\n",
       "       2.43212429e-02, 8.19236677e-01, 9.53939077e-01, 9.09530233e-02,\n",
       "       3.82306697e-01, 9.98444649e-01, 1.20972703e-02, 9.05836752e-01,\n",
       "       9.97591552e-01, 7.94905025e-02, 6.84046489e-02, 1.65005119e-02,\n",
       "       7.64227024e-01, 5.31907288e-04, 2.18068466e-01, 7.29048499e-01,\n",
       "       7.72724603e-01, 1.08021026e-01, 8.40286666e-01, 8.09218389e-01,\n",
       "       5.61457120e-02, 6.25370492e-01, 1.30828892e-02, 7.78607997e-01,\n",
       "       1.40604762e-02, 9.99987574e-01, 9.83515081e-01, 4.38596459e-02,\n",
       "       2.02776040e-01, 5.01766559e-02, 3.33136148e-02, 6.57351606e-01,\n",
       "       8.75972324e-02, 8.67192855e-02, 7.65918245e-02, 1.50738734e-01,\n",
       "       5.81286858e-01, 4.16705285e-02, 2.48951905e-02, 4.65196150e-01,\n",
       "       8.06312385e-02, 9.53472480e-01, 9.29803450e-01, 3.21991465e-01,\n",
       "       5.12791030e-02, 2.04907311e-02, 1.67664556e-02, 1.24126159e-01,\n",
       "       4.79785750e-04, 1.31168235e-01, 2.27578157e-01, 5.14163643e-01,\n",
       "       2.13683464e-01, 4.42631396e-02, 9.99442157e-01, 1.27027962e-01,\n",
       "       8.03277529e-01, 3.84623467e-02, 9.38874962e-01, 5.43419516e-01,\n",
       "       6.03024209e-01, 2.22118208e-01, 1.15607185e-01, 9.33590723e-01,\n",
       "       2.53621717e-01, 6.44814367e-01, 1.94378713e-02, 3.68097380e-01,\n",
       "       1.79961766e-03, 9.87645763e-01, 1.07574253e-01, 7.96368574e-02,\n",
       "       5.48910345e-01, 6.62831274e-02, 1.56379586e-02, 1.91293244e-01,\n",
       "       1.16008773e-02, 1.87411914e-01, 2.07162328e-01, 6.62418980e-02,\n",
       "       9.44730367e-02, 8.15055699e-01, 7.70912508e-03, 9.93114690e-01,\n",
       "       8.99715423e-01, 9.49962124e-01, 8.35613436e-01, 9.93413586e-01,\n",
       "       5.66766928e-02, 7.13168336e-01, 9.96181109e-01, 4.66981796e-02,\n",
       "       1.09601300e-01, 9.89960456e-01, 8.68544550e-01, 4.89564399e-03,\n",
       "       1.93787674e-02, 1.05876310e-02, 9.21344897e-02, 9.93641876e-01,\n",
       "       3.28407014e-02, 2.53661500e-01, 1.86576075e-01, 5.06308765e-03,\n",
       "       2.70408731e-01, 9.01205636e-01, 1.14452806e-01, 4.49755451e-01,\n",
       "       8.38651290e-01, 2.62854620e-01, 4.86308330e-04, 7.77842413e-01,\n",
       "       6.97422015e-02, 5.06815958e-01, 9.89947497e-01, 4.12854657e-02,\n",
       "       6.10581134e-02, 8.19181717e-01, 1.23437993e-01, 4.30674771e-03,\n",
       "       4.16001553e-02, 8.16558378e-01, 1.51732535e-02, 2.07690461e-01,\n",
       "       8.84262134e-01, 5.82739305e-01, 5.46201732e-01, 7.44060980e-02,\n",
       "       1.17588291e-01, 9.12246468e-01, 9.99910805e-01, 4.97435048e-02,\n",
       "       1.18069610e-01, 5.85421955e-01, 2.07728733e-01, 2.15490706e-01,\n",
       "       8.70515533e-01, 8.57978041e-01, 3.29377971e-01, 7.23924916e-01,\n",
       "       8.37956175e-01, 2.57343549e-02, 1.69165373e-02, 4.85065189e-02,\n",
       "       9.65906305e-01, 6.30348797e-01, 2.10417892e-02, 2.63617643e-02,\n",
       "       8.45697151e-01, 4.27552266e-01, 1.06809342e-01, 2.17797311e-02,\n",
       "       1.43288218e-03, 1.34047775e-02, 8.31225390e-02, 8.39786323e-01,\n",
       "       2.13421179e-01, 5.87238480e-02, 2.32840329e-01, 8.65409880e-01,\n",
       "       6.37403582e-01, 3.22661394e-02, 2.98417559e-02, 1.53585320e-01,\n",
       "       9.96694863e-01, 9.36347048e-01, 2.22357762e-01, 7.05334617e-02,\n",
       "       2.90787604e-02, 3.68353727e-02, 9.40078281e-01, 1.68392922e-02,\n",
       "       9.99999609e-01, 2.78056529e-01, 1.90024433e-01, 9.55736245e-01,\n",
       "       6.10738588e-01, 1.17247429e-01, 1.24430841e-02, 4.65893829e-02,\n",
       "       5.13352802e-02, 1.82902200e-01, 2.94059567e-02, 1.96833115e-01,\n",
       "       3.82821064e-01, 1.07329827e-01, 1.19624976e-01, 8.24567574e-03,\n",
       "       5.73780075e-01, 6.06080602e-01, 1.77145444e-01, 1.20871383e-01,\n",
       "       4.04031060e-01, 1.48388279e-01, 1.94573542e-01, 2.00412099e-01,\n",
       "       2.58036266e-02, 1.22560941e-02, 4.06912824e-01, 2.03093786e-02,\n",
       "       5.56407904e-02, 2.23419597e-01, 9.51876168e-01, 1.35293272e-02,\n",
       "       3.24556028e-01, 1.22342251e-01, 1.74667435e-01, 4.25837290e-02,\n",
       "       5.84823288e-01, 6.24107337e-02])"
      ]
     },
     "execution_count": 85,
     "metadata": {},
     "output_type": "execute_result"
    }
   ],
   "source": [
    "dt_probs = dt_probs[:, 1]\n",
    "nb_probs = nb_probs[:, 1]\n",
    "nb_probs"
   ]
  },
  {
   "cell_type": "code",
   "execution_count": 86,
   "id": "83f0a9a1",
   "metadata": {},
   "outputs": [],
   "source": [
    "from sklearn.metrics import roc_curve, roc_auc_score"
   ]
  },
  {
   "cell_type": "code",
   "execution_count": 87,
   "id": "87c384bc",
   "metadata": {},
   "outputs": [],
   "source": [
    "nb_auc = roc_auc_score(y_test, nb_probs)\n",
    "dt_auc = roc_auc_score(y_test, dt_probs)"
   ]
  },
  {
   "cell_type": "code",
   "execution_count": 88,
   "id": "d663edd9",
   "metadata": {},
   "outputs": [
    {
     "name": "stdout",
     "output_type": "stream",
     "text": [
      "Decision Tree: AUROC = 0.6890919158361019\n",
      "Naive Bayes: AUROC = 0.7857834994462902\n"
     ]
    }
   ],
   "source": [
    "print('Decision Tree AUROC = ' + str(dt_auc))\n",
    "print('Naive Bayes AUROC = ' + str(nb_auc))"
   ]
  },
  {
   "cell_type": "code",
   "execution_count": 89,
   "id": "4d4fa50d",
   "metadata": {},
   "outputs": [],
   "source": [
    "nb_fpr, nb_tpr, _ = roc_curve(y_test, nb_probs)\n",
    "dt_fpr, dt_tpr, _ = roc_curve(y_test, dt_probs)"
   ]
  },
  {
   "cell_type": "code",
   "execution_count": 90,
   "id": "89ea3672",
   "metadata": {},
   "outputs": [],
   "source": [
    "import matplotlib.pyplot as plt"
   ]
  },
  {
   "cell_type": "code",
   "execution_count": 91,
   "id": "e039a804",
   "metadata": {},
   "outputs": [
    {
     "data": {
      "image/png": "[encoded data removed]",
      "text/plain": [
       "<Figure size 432x288 with 1 Axes>"
      ]
     },
     "metadata": {
      "needs_background": "light"
     },
     "output_type": "display_data"
    }
   ],
   "source": [
    "plt.plot(nb_fpr, nb_tpr, linestyle='--', label='Naive Bayes (AUROC = %0.3f)' % nb_auc)\n",
    "plt.plot(dt_fpr, dt_tpr, marker='.', label='Decision Tree (AUROC = %0.3f)' % dt_auc)\n",
    "\n",
    "\n",
    "# Title\n",
    "plt.title('ROC Plot')\n",
    "# Axis labels\n",
    "plt.xlabel('False Positive Rate')\n",
    "plt.ylabel('True Positive Rate')\n",
    "# Show legend\n",
    "plt.legend() # \n",
    "# Show plot\n",
    "plt.show()"
   ]
  },
  {
   "cell_type": "code",
   "execution_count": 3,
   "id": "ed33b8e0",
   "metadata": {},
   "outputs": [
    {
     "name": "stdout",
     "output_type": "stream",
     "text": [
      "NAIVE BAYERS CLASSIFICATION\n",
      "Confusion Matrix\n",
      "Classification Report\n",
      "              precision    recall  f1-score   support\n",
      "\n",
      "           0       0.81      0.79      0.80       168\n",
      "           1       0.61      0.63      0.62        86\n",
      "\n",
      "    accuracy                           0.74       254\n",
      "   macro avg       0.71      0.71      0.71       254\n",
      "weighted avg       0.74      0.74      0.74       254\n",
      "\n",
      "\n",
      "DECISION TREE CLASSIFICATION\n",
      "Testing Score\n",
      "Confusion Matrix\n",
      "Classification Report\n",
      "              precision    recall  f1-score   support\n",
      "\n",
      "           0       0.80      0.76      0.78       168\n",
      "           1       0.57      0.64      0.60        86\n",
      "\n",
      "    accuracy                           0.72       254\n",
      "   macro avg       0.69      0.70      0.69       254\n",
      "weighted avg       0.73      0.72      0.72       254\n",
      "\n",
      "Decision Tree AUROC = 0.6977436323366556\n",
      "Naive Bayes AUROC = 0.7857834994462902\n"
     ]
    },
    {
     "data": {
      "image/png": "[encoded data removed]",
      "text/plain": [
       "<Figure size 432x288 with 1 Axes>"
      ]
     },
     "metadata": {
      "needs_background": "light"
     },
     "output_type": "display_data"
    }
   ],
   "source": [
    "import pandas as pd\n",
    "df = pd.read_csv('diabetes.csv')\n",
    "\n",
    "df.head()\n",
    "\n",
    "df.isnull().sum()\n",
    "\n",
    "from sklearn.model_selection import train_test_split\n",
    "\n",
    "X=df.drop(columns=['Outcome'])\n",
    "y=df['Outcome']\n",
    "X_train, X_test, y_train, y_test = train_test_split(X, y, test_size=0.33, random_state=42)\n",
    "\n",
    "print(\"NAIVE BAYERS CLASSIFICATION\")\n",
    "\n",
    "from sklearn.naive_bayes import GaussianNB\n",
    "nb = GaussianNB()\n",
    "\n",
    "nb.fit(X_train,y_train)\n",
    "\n",
    "nb.score(X_test,y_test)\n",
    "\n",
    "y_pred = nb.predict(X_test)\n",
    "\n",
    "from sklearn.metrics import confusion_matrix,classification_report\n",
    "\n",
    "print(\"Confusion Matrix\")\n",
    "confusion_matrix(y_test,y_pred)\n",
    "\n",
    "print(\"Classification Report\")\n",
    "print(classification_report(y_test,y_pred))\n",
    "\n",
    "X=df.drop(columns=['Outcome'])\n",
    "y=df['Outcome']\n",
    "X_train, X_test, y_train, y_test = train_test_split(X, y, test_size=0.33, random_state=42)\n",
    "\n",
    "from sklearn import tree\n",
    "dt = tree.DecisionTreeClassifier()\n",
    "\n",
    "print(\"\\nDECISION TREE CLASSIFICATION\")\n",
    "dt.fit(X_train,y_train)\n",
    "print(\"Testing Score\")\n",
    "dt.score(X_test,y_test)\n",
    "\n",
    "y_pred_dt = dt.predict(X_test)\n",
    "\n",
    "print(\"Confusion Matrix\")\n",
    "confusion_matrix(y_test,y_pred_dt)\n",
    "\n",
    "print(\"Classification Report\")\n",
    "print(classification_report(y_test,y_pred_dt))\n",
    "\n",
    "nb_probs = nb.predict_proba(X_test)\n",
    "dt_probs = dt.predict_proba(X_test)\n",
    "\n",
    "dt_probs = dt_probs[:, 1]\n",
    "nb_probs = nb_probs[:, 1]\n",
    "nb_probs\n",
    "\n",
    "from sklearn.metrics import roc_curve, roc_auc_score\n",
    "\n",
    "nb_auc = roc_auc_score(y_test, nb_probs)\n",
    "dt_auc = roc_auc_score(y_test, dt_probs)\n",
    "\n",
    "print('Decision Tree AUROC = ' + str(dt_auc))\n",
    "print('Naive Bayes AUROC = ' + str(nb_auc))\n",
    "\n",
    "nb_fpr, nb_tpr, _ = roc_curve(y_test, nb_probs)\n",
    "dt_fpr, dt_tpr, _ = roc_curve(y_test, dt_probs)\n",
    "\n",
    "import matplotlib.pyplot as plt\n",
    "\n",
    "plt.plot(nb_fpr, nb_tpr, linestyle='--', label='Naive Bayes (AUROC = %0.3f)' % nb_auc)\n",
    "plt.plot(dt_fpr, dt_tpr, marker='.', label='Decision Tree (AUROC = %0.3f)' % dt_auc)\n",
    "\n",
    "\n",
    "# Title\n",
    "plt.title('ROC Plot')\n",
    "# Axis labels\n",
    "plt.xlabel('False Positive Rate')\n",
    "plt.ylabel('True Positive Rate')\n",
    "# Show legend\n",
    "plt.legend() # \n",
    "# Show plot\n",
    "plt.show()\n"
   ]
  },
  {
   "cell_type": "code",
   "execution_count": null,
   "id": "84da8633",
   "metadata": {},
   "outputs": [],
   "source": []
  },
  {
   "cell_type": "code",
   "execution_count": null,
   "id": "020a51a2",
   "metadata": {},
   "outputs": [],
   "source": []
  }
 ],
 "metadata": {
  "kernelspec": {
   "display_name": "Python 3 (ipykernel)",
   "language": "python",
   "name": "python3"
  },
  "language_info": {
   "codemirror_mode": {
    "name": "ipython",
    "version": 3
   },
   "file_extension": ".py",
   "mimetype": "text/x-python",
   "name": "python",
   "nbconvert_exporter": "python",
   "pygments_lexer": "ipython3",
   "version": "3.9.2"
  }
 },
 "nbformat": 4,
 "nbformat_minor": 5
}
