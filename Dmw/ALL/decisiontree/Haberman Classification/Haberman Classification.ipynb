{
 "cells": [
  {
   "cell_type": "code",
   "execution_count": 1,
   "id": "59f1b581",
   "metadata": {},
   "outputs": [],
   "source": [
    "import pandas as pd"
   ]
  },
  {
   "cell_type": "code",
   "execution_count": 2,
   "id": "e3b4d8be",
   "metadata": {},
   "outputs": [],
   "source": [
    "df = pd.read_csv('haberman.csv',header=None)"
   ]
  },
  {
   "cell_type": "code",
   "execution_count": 3,
   "id": "f3807344",
   "metadata": {},
   "outputs": [
    {
     "data": {
      "text/html": [
       "<div>\n",
       "<style scoped>\n",
       "    .dataframe tbody tr th:only-of-type {\n",
       "        vertical-align: middle;\n",
       "    }\n",
       "\n",
       "    .dataframe tbody tr th {\n",
       "        vertical-align: top;\n",
       "    }\n",
       "\n",
       "    .dataframe thead th {\n",
       "        text-align: right;\n",
       "    }\n",
       "</style>\n",
       "<table border=\"1\" class=\"dataframe\">\n",
       "  <thead>\n",
       "    <tr style=\"text-align: right;\">\n",
       "      <th></th>\n",
       "      <th>0</th>\n",
       "      <th>1</th>\n",
       "      <th>2</th>\n",
       "      <th>3</th>\n",
       "    </tr>\n",
       "  </thead>\n",
       "  <tbody>\n",
       "    <tr>\n",
       "      <th>0</th>\n",
       "      <td>30</td>\n",
       "      <td>64</td>\n",
       "      <td>1</td>\n",
       "      <td>1</td>\n",
       "    </tr>\n",
       "    <tr>\n",
       "      <th>1</th>\n",
       "      <td>30</td>\n",
       "      <td>62</td>\n",
       "      <td>3</td>\n",
       "      <td>1</td>\n",
       "    </tr>\n",
       "    <tr>\n",
       "      <th>2</th>\n",
       "      <td>30</td>\n",
       "      <td>65</td>\n",
       "      <td>0</td>\n",
       "      <td>1</td>\n",
       "    </tr>\n",
       "    <tr>\n",
       "      <th>3</th>\n",
       "      <td>31</td>\n",
       "      <td>59</td>\n",
       "      <td>2</td>\n",
       "      <td>1</td>\n",
       "    </tr>\n",
       "    <tr>\n",
       "      <th>4</th>\n",
       "      <td>31</td>\n",
       "      <td>65</td>\n",
       "      <td>4</td>\n",
       "      <td>1</td>\n",
       "    </tr>\n",
       "  </tbody>\n",
       "</table>\n",
       "</div>"
      ],
      "text/plain": [
       "    0   1  2  3\n",
       "0  30  64  1  1\n",
       "1  30  62  3  1\n",
       "2  30  65  0  1\n",
       "3  31  59  2  1\n",
       "4  31  65  4  1"
      ]
     },
     "execution_count": 3,
     "metadata": {},
     "output_type": "execute_result"
    }
   ],
   "source": [
    "df.head()"
   ]
  },
  {
   "cell_type": "code",
   "execution_count": 4,
   "id": "c3340736",
   "metadata": {},
   "outputs": [
    {
     "data": {
      "text/plain": [
       "0    0\n",
       "1    0\n",
       "2    0\n",
       "3    0\n",
       "dtype: int64"
      ]
     },
     "execution_count": 4,
     "metadata": {},
     "output_type": "execute_result"
    }
   ],
   "source": [
    "df.isnull().sum()"
   ]
  },
  {
   "cell_type": "code",
   "execution_count": 5,
   "id": "8ffcb164",
   "metadata": {},
   "outputs": [],
   "source": [
    "# from sklearn.impute import SimpleImputer\n",
    "# imputer = SimpleImputer(missing_values=0,strategy='mean')"
   ]
  },
  {
   "cell_type": "code",
   "execution_count": 6,
   "id": "5c2ffc33",
   "metadata": {},
   "outputs": [
    {
     "data": {
      "text/plain": [
       "0      1\n",
       "1      1\n",
       "2      1\n",
       "3      1\n",
       "4      1\n",
       "      ..\n",
       "301    1\n",
       "302    1\n",
       "303    1\n",
       "304    2\n",
       "305    2\n",
       "Name: 3, Length: 306, dtype: int64"
      ]
     },
     "execution_count": 6,
     "metadata": {},
     "output_type": "execute_result"
    }
   ],
   "source": [
    "from sklearn.preprocessing import LabelEncoder\n",
    "le= LabelEncoder()\n",
    "df[3]"
   ]
  },
  {
   "cell_type": "code",
   "execution_count": 7,
   "id": "41bd8ff3",
   "metadata": {},
   "outputs": [
    {
     "data": {
      "text/plain": [
       "0      0\n",
       "1      0\n",
       "2      0\n",
       "3      0\n",
       "4      0\n",
       "      ..\n",
       "301    0\n",
       "302    0\n",
       "303    0\n",
       "304    1\n",
       "305    1\n",
       "Name: 3, Length: 306, dtype: int64"
      ]
     },
     "execution_count": 7,
     "metadata": {},
     "output_type": "execute_result"
    }
   ],
   "source": [
    "df[3]=le.fit_transform(df[3])\n",
    "df[3]"
   ]
  },
  {
   "cell_type": "code",
   "execution_count": 8,
   "id": "4c9659d4",
   "metadata": {},
   "outputs": [],
   "source": [
    "from sklearn.model_selection import train_test_split"
   ]
  },
  {
   "cell_type": "code",
   "execution_count": 9,
   "id": "0d838d7c",
   "metadata": {},
   "outputs": [],
   "source": [
    "X=df.drop(columns=[3])\n",
    "y=df[3]\n",
    "X_train, X_test, y_train, y_test = train_test_split(X, y, test_size=0.33, random_state=42)\n"
   ]
  },
  {
   "cell_type": "code",
   "execution_count": null,
   "id": "2d2ba81f",
   "metadata": {},
   "outputs": [],
   "source": [
    "print(\"NAIVE BAYERS CLASSIFICATION\")"
   ]
  },
  {
   "cell_type": "code",
   "execution_count": 10,
   "id": "c49cd24b",
   "metadata": {},
   "outputs": [],
   "source": [
    "from sklearn.naive_bayes import GaussianNB\n",
    "nb = GaussianNB()"
   ]
  },
  {
   "cell_type": "code",
   "execution_count": 11,
   "id": "eb46e653",
   "metadata": {},
   "outputs": [
    {
     "data": {
      "text/plain": [
       "GaussianNB()"
      ]
     },
     "execution_count": 11,
     "metadata": {},
     "output_type": "execute_result"
    }
   ],
   "source": [
    "nb.fit(X_train,y_train)"
   ]
  },
  {
   "cell_type": "code",
   "execution_count": 33,
   "id": "a7349020",
   "metadata": {},
   "outputs": [
    {
     "name": "stdout",
     "output_type": "stream",
     "text": [
      "Testing Score\n"
     ]
    },
    {
     "data": {
      "text/plain": [
       "0.7425742574257426"
      ]
     },
     "execution_count": 33,
     "metadata": {},
     "output_type": "execute_result"
    }
   ],
   "source": [
    "print(\"Testing Score\")\n",
    "nb.score(X_test,y_test)"
   ]
  },
  {
   "cell_type": "code",
   "execution_count": 13,
   "id": "186739c2",
   "metadata": {},
   "outputs": [],
   "source": [
    "y_pred = nb.predict(X_test)"
   ]
  },
  {
   "cell_type": "code",
   "execution_count": 14,
   "id": "36574f38",
   "metadata": {},
   "outputs": [],
   "source": [
    "from sklearn.metrics import confusion_matrix,classification_report"
   ]
  },
  {
   "cell_type": "code",
   "execution_count": 34,
   "id": "cfed5fc8",
   "metadata": {},
   "outputs": [
    {
     "name": "stdout",
     "output_type": "stream",
     "text": [
      "Naive Bayers Confusion Matrix\n"
     ]
    },
    {
     "data": {
      "text/plain": [
       "array([[67,  7],\n",
       "       [19,  8]], dtype=int64)"
      ]
     },
     "execution_count": 34,
     "metadata": {},
     "output_type": "execute_result"
    }
   ],
   "source": [
    "print(\"Naive Bayers Confusion Matrix\")\n",
    "confusion_matrix(y_test,y_pred)"
   ]
  },
  {
   "cell_type": "code",
   "execution_count": 35,
   "id": "e1e30b9e",
   "metadata": {},
   "outputs": [
    {
     "name": "stdout",
     "output_type": "stream",
     "text": [
      "Classification Report\n",
      "              precision    recall  f1-score   support\n",
      "\n",
      "           0       0.78      0.91      0.84        74\n",
      "           1       0.53      0.30      0.38        27\n",
      "\n",
      "    accuracy                           0.74       101\n",
      "   macro avg       0.66      0.60      0.61       101\n",
      "weighted avg       0.71      0.74      0.72       101\n",
      "\n"
     ]
    }
   ],
   "source": [
    "print(\"Classification Report\")\n",
    "print(classification_report(y_test,y_pred))"
   ]
  },
  {
   "cell_type": "code",
   "execution_count": null,
   "id": "c1cf302c",
   "metadata": {},
   "outputs": [],
   "source": []
  },
  {
   "cell_type": "code",
   "execution_count": 17,
   "id": "234c7571",
   "metadata": {},
   "outputs": [],
   "source": [
    "X=df.drop(columns=[3])\n",
    "y=df[3]\n",
    "X_train, X_test, y_train, y_test = train_test_split(X, y, test_size=0.33, random_state=42)"
   ]
  },
  {
   "cell_type": "code",
   "execution_count": 18,
   "id": "e57562bd",
   "metadata": {},
   "outputs": [],
   "source": [
    "print(\"DECISION TREE CLASSIFIER\")\n",
    "from sklearn import tree\n",
    "dt = tree.DecisionTreeClassifier()"
   ]
  },
  {
   "cell_type": "code",
   "execution_count": 19,
   "id": "3522432b",
   "metadata": {},
   "outputs": [
    {
     "data": {
      "text/plain": [
       "DecisionTreeClassifier()"
      ]
     },
     "execution_count": 19,
     "metadata": {},
     "output_type": "execute_result"
    }
   ],
   "source": [
    "dt.fit(X_train,y_train)"
   ]
  },
  {
   "cell_type": "code",
   "execution_count": 20,
   "id": "27c6174a",
   "metadata": {},
   "outputs": [
    {
     "data": {
      "text/plain": [
       "0.9853658536585366"
      ]
     },
     "execution_count": 20,
     "metadata": {},
     "output_type": "execute_result"
    }
   ],
   "source": [
    "print(\"Testing Score\")\n",
    "dt.score(X_test,y_test)"
   ]
  },
  {
   "cell_type": "code",
   "execution_count": 21,
   "id": "e3e3d3cd",
   "metadata": {},
   "outputs": [],
   "source": [
    "y_pred_dt = dt.predict(X_test)"
   ]
  },
  {
   "cell_type": "code",
   "execution_count": 22,
   "id": "03d4d205",
   "metadata": {},
   "outputs": [
    {
     "name": "stdout",
     "output_type": "stream",
     "text": [
      "              precision    recall  f1-score   support\n",
      "\n",
      "           0       0.75      0.72      0.73        74\n",
      "           1       0.30      0.33      0.32        27\n",
      "\n",
      "    accuracy                           0.61       101\n",
      "   macro avg       0.52      0.52      0.52       101\n",
      "weighted avg       0.63      0.61      0.62       101\n",
      "\n"
     ]
    }
   ],
   "source": [
    "print(classification_report(y_test,y_pred_dt))"
   ]
  },
  {
   "cell_type": "code",
   "execution_count": 23,
   "id": "58f9f7e6",
   "metadata": {},
   "outputs": [
    {
     "data": {
      "text/plain": [
       "array([[53, 21],\n",
       "       [18,  9]], dtype=int64)"
      ]
     },
     "execution_count": 23,
     "metadata": {},
     "output_type": "execute_result"
    }
   ],
   "source": [
    "confusion_matrix(y_test,y_pred_dt)\n",
    "\n",
    "\n"
   ]
  },
  {
   "cell_type": "code",
   "execution_count": 24,
   "id": "2999ea0f",
   "metadata": {},
   "outputs": [],
   "source": [
    "nb_probs = nb.predict_proba(X_test)\n",
    "dt_probs = dt.predict_proba(X_test)"
   ]
  },
  {
   "cell_type": "code",
   "execution_count": 25,
   "id": "0c7b713a",
   "metadata": {},
   "outputs": [
    {
     "data": {
      "text/plain": [
       "array([0.19137958, 0.13848853, 0.14451698, 0.16545492, 0.11197562,\n",
       "       0.99867577, 0.15597881, 0.14223859, 0.39375994, 0.12057539,\n",
       "       0.25750986, 0.12252265, 0.10509511, 0.84937881, 0.12774549,\n",
       "       0.14378487, 0.13665952, 0.14341845, 0.33426193, 0.17696361,\n",
       "       0.19904623, 0.16539839, 0.1757564 , 0.1313707 , 0.1663229 ,\n",
       "       0.15919507, 0.10948316, 0.1615395 , 0.23420182, 0.18269846,\n",
       "       0.13584106, 0.58630135, 0.1484115 , 0.10674984, 0.09063961,\n",
       "       0.21183511, 0.13356593, 0.12426287, 0.87721739, 0.14431876,\n",
       "       0.86463483, 0.12508563, 0.95408705, 0.1495436 , 0.11484918,\n",
       "       0.15058842, 0.17692116, 0.13356593, 0.19155419, 0.19904623,\n",
       "       0.794137  , 0.19257352, 0.1475836 , 0.11621277, 0.17595837,\n",
       "       0.55946219, 0.23376429, 0.16884788, 0.2105179 , 0.17595837,\n",
       "       0.16169341, 0.22495027, 0.21339435, 0.21174705, 0.81688968,\n",
       "       0.15706874, 0.86486975, 0.13420711, 0.10651189, 0.20478441,\n",
       "       0.09934773, 0.5347719 , 0.95910877, 0.13436663, 0.18158756,\n",
       "       0.13802491, 0.15134375, 0.86082017, 0.16004051, 0.17249147,\n",
       "       0.16139915, 0.16064295, 0.1152778 , 0.47284877, 0.12513397,\n",
       "       0.96348325, 0.15723653, 0.10493446, 0.16263016, 0.5943348 ,\n",
       "       0.16557164, 0.45129261, 0.12810841, 0.09961865, 0.11029559,\n",
       "       0.17224021, 0.1757564 , 0.1370788 , 0.1267623 , 0.19904623,\n",
       "       0.13720353])"
      ]
     },
     "execution_count": 25,
     "metadata": {},
     "output_type": "execute_result"
    }
   ],
   "source": [
    "dt_probs = dt_probs[:, 1]\n",
    "nb_probs = nb_probs[:, 1]\n",
    "nb_probs"
   ]
  },
  {
   "cell_type": "code",
   "execution_count": 26,
   "id": "83f0a9a1",
   "metadata": {},
   "outputs": [],
   "source": [
    "from sklearn.metrics import roc_curve, roc_auc_score"
   ]
  },
  {
   "cell_type": "code",
   "execution_count": 27,
   "id": "87c384bc",
   "metadata": {},
   "outputs": [],
   "source": [
    "nb_auc = roc_auc_score(y_test, nb_probs)\n",
    "dt_auc = roc_auc_score(y_test, dt_probs)"
   ]
  },
  {
   "cell_type": "code",
   "execution_count": 28,
   "id": "d663edd9",
   "metadata": {},
   "outputs": [
    {
     "name": "stdout",
     "output_type": "stream",
     "text": [
      "Decision Tree: AUROC = 0.5247747747747747\n",
      "Naive Bayes: AUROC = 0.6191191191191191\n"
     ]
    }
   ],
   "source": [
    "print('Decision Tree AUROC = ' + str(dt_auc))\n",
    "print('Naive Bayes AUROC = ' + str(nb_auc))"
   ]
  },
  {
   "cell_type": "code",
   "execution_count": 29,
   "id": "4d4fa50d",
   "metadata": {},
   "outputs": [],
   "source": [
    "nb_fpr, nb_tpr, _ = roc_curve(y_test, nb_probs)\n",
    "dt_fpr, dt_tpr, _ = roc_curve(y_test, dt_probs)"
   ]
  },
  {
   "cell_type": "code",
   "execution_count": 30,
   "id": "89ea3672",
   "metadata": {},
   "outputs": [],
   "source": [
    "import matplotlib.pyplot as plt"
   ]
  },
  {
   "cell_type": "code",
   "execution_count": 36,
   "id": "e039a804",
   "metadata": {},
   "outputs": [
    {
     "data": {
      "image/png": "[encoded data removed]",
      "text/plain": [
       "<Figure size 432x288 with 1 Axes>"
      ]
     },
     "metadata": {
      "needs_background": "light"
     },
     "output_type": "display_data"
    }
   ],
   "source": [
    "plt.plot(nb_fpr, nb_tpr, linestyle='--', label='Naive Bayes (AUROC = %0.3f)' % nb_auc)\n",
    "plt.plot(dt_fpr, dt_tpr, marker='.', label='Decision Tree (AUROC = %0.3f)' % dt_auc)\n",
    "\n",
    "\n",
    "# Title\n",
    "plt.title('ROC Plot')\n",
    "# Axis labels\n",
    "plt.xlabel('False Positive Rate')\n",
    "plt.ylabel('True Positive Rate')\n",
    "# Show legend\n",
    "plt.legend() # \n",
    "# Show plot\n",
    "plt.show()"
   ]
  },
  {
   "cell_type": "code",
   "execution_count": 37,
   "id": "78ce295f",
   "metadata": {},
   "outputs": [
    {
     "name": "stdout",
     "output_type": "stream",
     "text": [
      "NAIVE BAYERS CLASSIFICATION\n",
      "Testing Score\n",
      "Naive Bayers Confusion Matrix\n",
      "Classification Report\n",
      "              precision    recall  f1-score   support\n",
      "\n",
      "           0       0.78      0.91      0.84        74\n",
      "           1       0.53      0.30      0.38        27\n",
      "\n",
      "    accuracy                           0.74       101\n",
      "   macro avg       0.66      0.60      0.61       101\n",
      "weighted avg       0.71      0.74      0.72       101\n",
      "\n",
      "DECISION TREE CLASSIFIER\n",
      "Testing Score\n",
      "              precision    recall  f1-score   support\n",
      "\n",
      "           0       0.75      0.73      0.74        74\n",
      "           1       0.31      0.33      0.32        27\n",
      "\n",
      "    accuracy                           0.62       101\n",
      "   macro avg       0.53      0.53      0.53       101\n",
      "weighted avg       0.63      0.62      0.63       101\n",
      "\n",
      "Decision Tree AUROC = 0.5315315315315315\n",
      "Naive Bayes AUROC = 0.6191191191191191\n"
     ]
    },
    {
     "data": {
      "image/png": "[encoded data removed]",
      "text/plain": [
       "<Figure size 432x288 with 1 Axes>"
      ]
     },
     "metadata": {
      "needs_background": "light"
     },
     "output_type": "display_data"
    }
   ],
   "source": [
    "import pandas as pd\n",
    "\n",
    "df = pd.read_csv('haberman.csv',header=None)\n",
    "\n",
    "df.head()\n",
    "df.isnull().sum()\n",
    "\n",
    "from sklearn.preprocessing import LabelEncoder\n",
    "le= LabelEncoder()\n",
    "df[3]\n",
    "\n",
    "df[3]=le.fit_transform(df[3])\n",
    "df[3]\n",
    "\n",
    "from sklearn.model_selection import train_test_split\n",
    "\n",
    "X=df.drop(columns=[3])\n",
    "y=df[3]\n",
    "X_train, X_test, y_train, y_test = train_test_split(X, y, test_size=0.33, random_state=42)\n",
    "\n",
    "print(\"NAIVE BAYERS CLASSIFICATION\")\n",
    "\n",
    "from sklearn.naive_bayes import GaussianNB\n",
    "nb = GaussianNB()\n",
    "\n",
    "nb.fit(X_train,y_train)\n",
    "print(\"Testing Score\")\n",
    "nb.score(X_test,y_test)\n",
    "y_pred = nb.predict(X_test)\n",
    "from sklearn.metrics import confusion_matrix,classification_report\n",
    "\n",
    "print(\"Naive Bayers Confusion Matrix\")\n",
    "confusion_matrix(y_test,y_pred)\n",
    "print(\"Classification Report\")\n",
    "print(classification_report(y_test,y_pred))\n",
    "\n",
    "X=df.drop(columns=[3])\n",
    "y=df[3]\n",
    "X_train, X_test, y_train, y_test = train_test_split(X, y, test_size=0.33, random_state=42)\n",
    "print(\"DECISION TREE CLASSIFIER\")\n",
    "from sklearn import tree\n",
    "dt = tree.DecisionTreeClassifier()\n",
    "\n",
    "dt.fit(X_train,y_train)\n",
    "\n",
    "print(\"Testing Score\")\n",
    "dt.score(X_test,y_test)\n",
    "\n",
    "y_pred_dt = dt.predict(X_test)\n",
    "\n",
    "print(classification_report(y_test,y_pred_dt))\n",
    "confusion_matrix(y_test,y_pred_dt)\n",
    "\n",
    "nb_probs = nb.predict_proba(X_test)\n",
    "dt_probs = dt.predict_proba(X_test)\n",
    "\n",
    "dt_probs = dt_probs[:, 1]\n",
    "nb_probs = nb_probs[:, 1]\n",
    "nb_probs\n",
    "\n",
    "from sklearn.metrics import roc_curve, roc_auc_score\n",
    "\n",
    "nb_auc = roc_auc_score(y_test, nb_probs)\n",
    "dt_auc = roc_auc_score(y_test, dt_probs)\n",
    "\n",
    "print('Decision Tree AUROC = ' + str(dt_auc))\n",
    "print('Naive Bayes AUROC = ' + str(nb_auc))\n",
    "\n",
    "nb_fpr, nb_tpr, _ = roc_curve(y_test, nb_probs)\n",
    "dt_fpr, dt_tpr, _ = roc_curve(y_test, dt_probs)\n",
    "\n",
    "import matplotlib.pyplot as plt\n",
    "\n",
    "plt.plot(nb_fpr, nb_tpr, linestyle='--', label='Naive Bayes (AUROC = %0.3f)' % nb_auc)\n",
    "plt.plot(dt_fpr, dt_tpr, marker='.', label='Decision Tree (AUROC = %0.3f)' % dt_auc)\n",
    "\n",
    "\n",
    "# Title\n",
    "plt.title('ROC Plot')\n",
    "# Axis labels\n",
    "plt.xlabel('False Positive Rate')\n",
    "plt.ylabel('True Positive Rate')\n",
    "# Show legend\n",
    "plt.legend() # \n",
    "# Show plot\n",
    "plt.show()\n",
    "\n"
   ]
  }
 ],
 "metadata": {
  "kernelspec": {
   "display_name": "Python 3 (ipykernel)",
   "language": "python",
   "name": "python3"
  },
  "language_info": {
   "codemirror_mode": {
    "name": "ipython",
    "version": 3
   },
   "file_extension": ".py",
   "mimetype": "text/x-python",
   "name": "python",
   "nbconvert_exporter": "python",
   "pygments_lexer": "ipython3",
   "version": "3.9.2"
  }
 },
 "nbformat": 4,
 "nbformat_minor": 5
}
